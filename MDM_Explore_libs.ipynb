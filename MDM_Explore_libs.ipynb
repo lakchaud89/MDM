{
 "cells": [
  {
   "cell_type": "markdown",
   "metadata": {},
   "source": [
    "Address Validation Steps: \n",
    "1) Step 1: validate the zip code : \n",
    "\n",
    "5 digits for US,\n",
    "\n",
    "\n",
    "\n",
    "\n",
    "Fix non valid zips? -- still need solution \n",
    "        \n",
    "2) Step 2: For all records with valid zip, use uszipcode (https://pypi.python.org/pypi/uszipcode)search.by_zipcode to standardize the city name \n",
    "    and state name(abbreviated version to make shorter eg; New York to NY)\n",
    "3) Step 3: for non valid zips, use search.by_city_and_state() search to ensure valid city and state name \n",
    "\n",
    "https://pypi.python.org/pypi/geograpy\n",
    "http://dev.maxmind.com/geoip/geoip2/geolite2/\n",
    "\n",
    "\n",
    "Limitations:\n",
    "1) Library found for zipcodes so far is US only, it is not complete  \n",
    "2) Street names no library as of yet found\n",
    "\n",
    "\n",
    "\n",
    "https://github.com/jamesturk/jellyfish  fuzzy matching library in python with different algos\n",
    "\n",
    "\n",
    "Use pyzipcode (not installing for python 3)\n",
    "https://pypi.python.org/pypi/pyzipcode\n"
   ]
  },
  {
   "cell_type": "code",
   "execution_count": 310,
   "metadata": {
    "collapsed": true
   },
   "outputs": [],
   "source": [
    "from uszipcode import ZipcodeSearchEngine"
   ]
  },
  {
   "cell_type": "code",
   "execution_count": 311,
   "metadata": {
    "collapsed": true
   },
   "outputs": [],
   "source": [
    "search = ZipcodeSearchEngine()"
   ]
  },
  {
   "cell_type": "code",
   "execution_count": 312,
   "metadata": {
    "collapsed": true
   },
   "outputs": [],
   "source": [
    "zipcode = search.by_zipcode(\"94597\")"
   ]
  },
  {
   "cell_type": "code",
   "execution_count": 313,
   "metadata": {
    "collapsed": false
   },
   "outputs": [
    {
     "name": "stdout",
     "output_type": "stream",
     "text": [
      "{\n",
      "    \"City\": \"Walnut Creek\",\n",
      "    \"Density\": 5185.933503836317,\n",
      "    \"HouseOfUnits\": 10181,\n",
      "    \"LandArea\": 3.91,\n",
      "    \"Latitude\": 37.9193365,\n",
      "    \"Longitude\": -122.0780632,\n",
      "    \"NEBoundLatitude\": 37.940474,\n",
      "    \"NEBoundLongitude\": -122.04727,\n",
      "    \"Population\": 20277,\n",
      "    \"SWBoundLatitude\": 37.895976,\n",
      "    \"SWBoungLongitude\": -122.10001100000001,\n",
      "    \"State\": \"CA\",\n",
      "    \"TotalWages\": 659243091.0,\n",
      "    \"WaterArea\": 0.0,\n",
      "    \"Wealthy\": 32511.865216748036,\n",
      "    \"Zipcode\": \"94597\",\n",
      "    \"ZipcodeType\": \"Standard\"\n",
      "}\n"
     ]
    }
   ],
   "source": [
    "print(zipcode)"
   ]
  },
  {
   "cell_type": "code",
   "execution_count": 314,
   "metadata": {
    "collapsed": false
   },
   "outputs": [
    {
     "name": "stdout",
     "output_type": "stream",
     "text": [
      "<class 'uszipcode.searchengine.Zipcode'>\n"
     ]
    }
   ],
   "source": [
    "print(type(zipcode))"
   ]
  },
  {
   "cell_type": "code",
   "execution_count": 315,
   "metadata": {
    "collapsed": false
   },
   "outputs": [
    {
     "name": "stdout",
     "output_type": "stream",
     "text": [
      "Walnut Creek\n"
     ]
    }
   ],
   "source": [
    "print(zipcode.City)"
   ]
  },
  {
   "cell_type": "code",
   "execution_count": 316,
   "metadata": {
    "collapsed": false
   },
   "outputs": [
    {
     "name": "stdout",
     "output_type": "stream",
     "text": [
      "CA\n"
     ]
    }
   ],
   "source": [
    "print(zipcode.State)  #this is abbreviated"
   ]
  },
  {
   "cell_type": "code",
   "execution_count": 318,
   "metadata": {
    "collapsed": false
   },
   "outputs": [
    {
     "name": "stdout",
     "output_type": "stream",
     "text": [
      "{\n",
      "    \"City\": null,\n",
      "    \"Density\": null,\n",
      "    \"HouseOfUnits\": null,\n",
      "    \"LandArea\": null,\n",
      "    \"Latitude\": null,\n",
      "    \"Longitude\": null,\n",
      "    \"NEBoundLatitude\": null,\n",
      "    \"NEBoundLongitude\": null,\n",
      "    \"Population\": null,\n",
      "    \"SWBoundLatitude\": null,\n",
      "    \"SWBoungLongitude\": null,\n",
      "    \"State\": null,\n",
      "    \"TotalWages\": null,\n",
      "    \"WaterArea\": null,\n",
      "    \"Wealthy\": null,\n",
      "    \"Zipcode\": null,\n",
      "    \"ZipcodeType\": null\n",
      "}\n"
     ]
    }
   ],
   "source": [
    "zipcode2 = search.by_zipcode(\"55555\")\n",
    "print(zipcode2)"
   ]
  },
  {
   "cell_type": "code",
   "execution_count": 319,
   "metadata": {
    "collapsed": false
   },
   "outputs": [
    {
     "name": "stdout",
     "output_type": "stream",
     "text": [
      "5\n",
      "<class 'list'>\n",
      "{\n",
      "    \"City\": \"Chicago\",\n",
      "    \"Density\": 28487.17948717948,\n",
      "    \"HouseOfUnits\": 8594,\n",
      "    \"LandArea\": 0.39,\n",
      "    \"Latitude\": 41.8839927,\n",
      "    \"Longitude\": -87.61970559999997,\n",
      "    \"NEBoundLatitude\": 41.88892999999999,\n",
      "    \"NEBoundLongitude\": -87.60535089999998,\n",
      "    \"Population\": 11110,\n",
      "    \"SWBoundLatitude\": 41.874429799999994,\n",
      "    \"SWBoungLongitude\": -87.63396800000001,\n",
      "    \"State\": \"IL\",\n",
      "    \"TotalWages\": 594882095.0,\n",
      "    \"WaterArea\": 0.0,\n",
      "    \"Wealthy\": 53544.74302430243,\n",
      "    \"Zipcode\": \"60601\",\n",
      "    \"ZipcodeType\": \"Standard\"\n",
      "}\n"
     ]
    }
   ],
   "source": [
    "#You can search by city and state name, multiple results may returns. Plus, fuzzy name search is supported. \n",
    "#Which means even the inputs has spelling problem, the fuzzy matching algorithm can still find out the city and\n",
    "#state your are looking for, no matter using 2 letter short name or full state name.\n",
    "res = search.by_city_and_state(\"cicago\", \"ilinoy\")\n",
    "print(len(res))\n",
    "print(type(res))\n",
    "print(res[0])\n",
    "#dict_res=dict(res)\n"
   ]
  },
  {
   "cell_type": "code",
   "execution_count": 320,
   "metadata": {
    "collapsed": false
   },
   "outputs": [
    {
     "name": "stdout",
     "output_type": "stream",
     "text": [
      "Chicago\n",
      "IL\n",
      "60601\n"
     ]
    }
   ],
   "source": [
    "print(res[0][\"City\"])\n",
    "print(res[0][\"State\"])\n",
    "print(res[0][\"Zipcode\"])\n"
   ]
  },
  {
   "cell_type": "code",
   "execution_count": 321,
   "metadata": {
    "collapsed": true
   },
   "outputs": [],
   "source": [
    "import us"
   ]
  },
  {
   "cell_type": "code",
   "execution_count": 322,
   "metadata": {
    "collapsed": false
   },
   "outputs": [
    {
     "name": "stdout",
     "output_type": "stream",
     "text": [
      "<class 'list'>\n",
      "[<State:Alabama>, <State:Alaska>, <State:Arizona>, <State:Arkansas>, <State:California>, <State:Colorado>, <State:Connecticut>, <State:Delaware>, <State:District of Columbia>, <State:Florida>, <State:Georgia>, <State:Hawaii>, <State:Idaho>, <State:Illinois>, <State:Indiana>, <State:Iowa>, <State:Kansas>, <State:Kentucky>, <State:Louisiana>, <State:Maine>, <State:Maryland>, <State:Massachusetts>, <State:Michigan>, <State:Minnesota>, <State:Mississippi>, <State:Missouri>, <State:Montana>, <State:Nebraska>, <State:Nevada>, <State:New Hampshire>, <State:New Jersey>, <State:New Mexico>, <State:New York>, <State:North Carolina>, <State:North Dakota>, <State:Ohio>, <State:Oklahoma>, <State:Oregon>, <State:Pennsylvania>, <State:Rhode Island>, <State:South Carolina>, <State:South Dakota>, <State:Tennessee>, <State:Texas>, <State:Utah>, <State:Vermont>, <State:Virginia>, <State:Washington>, <State:West Virginia>, <State:Wisconsin>, <State:Wyoming>]\n"
     ]
    }
   ],
   "source": [
    "st = us.states.STATES\n",
    "print(type(st))\n",
    "print(st)"
   ]
  },
  {
   "cell_type": "code",
   "execution_count": 323,
   "metadata": {
    "collapsed": false
   },
   "outputs": [
    {
     "name": "stdout",
     "output_type": "stream",
     "text": [
      "<class 'list'>\n",
      "[<State:Alabama>, <State:Alaska>, <State:American Samoa>, <State:Arizona>, <State:Arkansas>, <State:California>, <State:Colorado>, <State:Connecticut>, <State:Dakota>, <State:Delaware>, <State:District of Columbia>, <State:Florida>, <State:Georgia>, <State:Guam>, <State:Hawaii>, <State:Idaho>, <State:Illinois>, <State:Indiana>, <State:Iowa>, <State:Kansas>, <State:Kentucky>, <State:Louisiana>, <State:Maine>, <State:Maryland>, <State:Massachusetts>, <State:Michigan>, <State:Minnesota>, <State:Mississippi>, <State:Missouri>, <State:Montana>, <State:Nebraska>, <State:Nevada>, <State:New Hampshire>, <State:New Jersey>, <State:New Mexico>, <State:New York>, <State:North Carolina>, <State:North Dakota>, <State:Northern Mariana Islands>, <State:Ohio>, <State:Oklahoma>, <State:Oregon>, <State:Orleans>, <State:Pennsylvania>, <State:Philippine Islands>, <State:Puerto Rico>, <State:Rhode Island>, <State:South Carolina>, <State:South Dakota>, <State:Tennessee>, <State:Texas>, <State:Utah>, <State:Vermont>, <State:Virgin Islands>, <State:Virginia>, <State:Washington>, <State:West Virginia>, <State:Wisconsin>, <State:Wyoming>]\n"
     ]
    }
   ],
   "source": [
    "sttt = us.states.STATES_AND_TERRITORIES\n",
    "print(type(sttt))\n",
    "print(sttt)"
   ]
  },
  {
   "cell_type": "code",
   "execution_count": 324,
   "metadata": {
    "collapsed": true
   },
   "outputs": [],
   "source": [
    "import numpy as np \n",
    "import pandas as pd\n",
    "from uszipcode import ZipcodeSearchEngine\n"
   ]
  },
  {
   "cell_type": "code",
   "execution_count": 325,
   "metadata": {
    "collapsed": true
   },
   "outputs": [],
   "source": [
    "file_name = \"data_bank_accounts.csv\""
   ]
  },
  {
   "cell_type": "code",
   "execution_count": 420,
   "metadata": {
    "collapsed": false
   },
   "outputs": [],
   "source": [
    "bank_cust_data = pd.read_csv(file_name)"
   ]
  },
  {
   "cell_type": "code",
   "execution_count": 421,
   "metadata": {
    "collapsed": false
   },
   "outputs": [
    {
     "data": {
      "text/html": [
       "<div>\n",
       "<table border=\"1\" class=\"dataframe\">\n",
       "  <thead>\n",
       "    <tr style=\"text-align: right;\">\n",
       "      <th></th>\n",
       "      <th>source_rowID</th>\n",
       "      <th>first_name</th>\n",
       "      <th>last_name</th>\n",
       "      <th>street</th>\n",
       "      <th>city</th>\n",
       "      <th>state</th>\n",
       "      <th>zip</th>\n",
       "      <th>phone</th>\n",
       "      <th>email</th>\n",
       "    </tr>\n",
       "  </thead>\n",
       "  <tbody>\n",
       "    <tr>\n",
       "      <th>0</th>\n",
       "      <td>1</td>\n",
       "      <td>Dennis</td>\n",
       "      <td>Sullivan</td>\n",
       "      <td>232 Dryden Terrace</td>\n",
       "      <td>Appleton</td>\n",
       "      <td>12345</td>\n",
       "      <td>654321</td>\n",
       "      <td>334-6754-333</td>\n",
       "      <td>dsullivan1@ucla.edu</td>\n",
       "    </tr>\n",
       "    <tr>\n",
       "      <th>1</th>\n",
       "      <td>2</td>\n",
       "      <td>Harry</td>\n",
       "      <td>Davis</td>\n",
       "      <td>123 ABC</td>\n",
       "      <td>New York City</td>\n",
       "      <td>New York</td>\n",
       "      <td>55555</td>\n",
       "      <td>1-(999)999-99999</td>\n",
       "      <td>hdavis3@networkadvertising.org</td>\n",
       "    </tr>\n",
       "    <tr>\n",
       "      <th>2</th>\n",
       "      <td>3</td>\n",
       "      <td>Michelle</td>\n",
       "      <td>White</td>\n",
       "      <td>185 Manitowish Point</td>\n",
       "      <td>Atlanta</td>\n",
       "      <td>Georgia</td>\n",
       "      <td>30323</td>\n",
       "      <td>1-(678)692-6250</td>\n",
       "      <td>mwhite4@hud.gov</td>\n",
       "    </tr>\n",
       "    <tr>\n",
       "      <th>3</th>\n",
       "      <td>4</td>\n",
       "      <td>Marie</td>\n",
       "      <td>Wood</td>\n",
       "      <td>98869 Claremont Place</td>\n",
       "      <td>Pasadena</td>\n",
       "      <td>California</td>\n",
       "      <td>91125</td>\n",
       "      <td>1-(626)747-3764</td>\n",
       "      <td>mwood5@bravesites.com</td>\n",
       "    </tr>\n",
       "    <tr>\n",
       "      <th>4</th>\n",
       "      <td>5</td>\n",
       "      <td>Karen</td>\n",
       "      <td>Fisher</td>\n",
       "      <td>4323 Bluestem Center</td>\n",
       "      <td>Philadelphia</td>\n",
       "      <td>Pennsylvania</td>\n",
       "      <td>19115</td>\n",
       "      <td>1-(267)279-4286</td>\n",
       "      <td>kfishere@blogger</td>\n",
       "    </tr>\n",
       "    <tr>\n",
       "      <th>5</th>\n",
       "      <td>6</td>\n",
       "      <td>Gary</td>\n",
       "      <td>Carroll</td>\n",
       "      <td>678 Wayridge Center</td>\n",
       "      <td>Scranton</td>\n",
       "      <td>Pennsylvania</td>\n",
       "      <td>18514</td>\n",
       "      <td>1-(570)785-1034</td>\n",
       "      <td>gcarrollg@discovery.com</td>\n",
       "    </tr>\n",
       "    <tr>\n",
       "      <th>6</th>\n",
       "      <td>7</td>\n",
       "      <td>Paul</td>\n",
       "      <td>Gonzales</td>\n",
       "      <td>47 Main Crossing</td>\n",
       "      <td>Pittsburgh</td>\n",
       "      <td>Pennsylvania</td>\n",
       "      <td>15205</td>\n",
       "      <td>1-(724)209-2821</td>\n",
       "      <td>pgonzalesh@pbs.pqrs</td>\n",
       "    </tr>\n",
       "    <tr>\n",
       "      <th>7</th>\n",
       "      <td>8</td>\n",
       "      <td>Rose</td>\n",
       "      <td>Sims</td>\n",
       "      <td>03535 Knutson Place</td>\n",
       "      <td>Hattiesburg</td>\n",
       "      <td>Mississippi</td>\n",
       "      <td>39404</td>\n",
       "      <td>1-(601)773-3815</td>\n",
       "      <td>rsimsi@slideshare.net</td>\n",
       "    </tr>\n",
       "    <tr>\n",
       "      <th>8</th>\n",
       "      <td>316</td>\n",
       "      <td>Ronald</td>\n",
       "      <td>Powell</td>\n",
       "      <td>2 Crowley Center</td>\n",
       "      <td>Pasadena</td>\n",
       "      <td>California</td>\n",
       "      <td>91131</td>\n",
       "      <td>1-(626)574-7779</td>\n",
       "      <td>rpowell0@jomla.org</td>\n",
       "    </tr>\n",
       "    <tr>\n",
       "      <th>9</th>\n",
       "      <td>317</td>\n",
       "      <td>Judy</td>\n",
       "      <td>Harrison</td>\n",
       "      <td>59517 Dottie Way</td>\n",
       "      <td>Birmingham</td>\n",
       "      <td>Alabama</td>\n",
       "      <td>35263</td>\n",
       "      <td>1-(205)308-3808</td>\n",
       "      <td>jharrison7@sogou.com</td>\n",
       "    </tr>\n",
       "    <tr>\n",
       "      <th>10</th>\n",
       "      <td>318</td>\n",
       "      <td>Andrew</td>\n",
       "      <td>Robertson</td>\n",
       "      <td>9812 Troy Avenue</td>\n",
       "      <td>Houston</td>\n",
       "      <td>Texas</td>\n",
       "      <td>77085</td>\n",
       "      <td>1-(713)453-8878</td>\n",
       "      <td>arobertson8@census.gov</td>\n",
       "    </tr>\n",
       "    <tr>\n",
       "      <th>11</th>\n",
       "      <td>319</td>\n",
       "      <td>Ruth</td>\n",
       "      <td>Gonzales</td>\n",
       "      <td>0 Mcguire Court</td>\n",
       "      <td>New York City</td>\n",
       "      <td>New York</td>\n",
       "      <td>10115</td>\n",
       "      <td>1-(212)506-2497</td>\n",
       "      <td>rgonzales9@shop-pro.jp</td>\n",
       "    </tr>\n",
       "    <tr>\n",
       "      <th>12</th>\n",
       "      <td>320</td>\n",
       "      <td>Heather</td>\n",
       "      <td>Hawkins</td>\n",
       "      <td>07155 Calypso Alley</td>\n",
       "      <td>Daytona Beach</td>\n",
       "      <td>Florida</td>\n",
       "      <td>32128</td>\n",
       "      <td>1-(386)294-7334</td>\n",
       "      <td>hhawkin@amazon.co.uk</td>\n",
       "    </tr>\n",
       "    <tr>\n",
       "      <th>13</th>\n",
       "      <td>321</td>\n",
       "      <td>Thomas</td>\n",
       "      <td>Lawson</td>\n",
       "      <td>061 Magdeline Circle</td>\n",
       "      <td>London</td>\n",
       "      <td>Kentucky</td>\n",
       "      <td>40745</td>\n",
       "      <td>1-(606)272-1234</td>\n",
       "      <td>tlawsonf@admin.ch</td>\n",
       "    </tr>\n",
       "    <tr>\n",
       "      <th>14</th>\n",
       "      <td>322</td>\n",
       "      <td>Gary</td>\n",
       "      <td>Carroll</td>\n",
       "      <td>678 Wayridge Center</td>\n",
       "      <td>Scranton</td>\n",
       "      <td>Pennsylvania</td>\n",
       "      <td>18514</td>\n",
       "      <td>1-(500)785-2234</td>\n",
       "      <td>gcarllg@discovery.com</td>\n",
       "    </tr>\n",
       "  </tbody>\n",
       "</table>\n",
       "</div>"
      ],
      "text/plain": [
       "    source_rowID first_name  last_name                 street           city  \\\n",
       "0              1     Dennis   Sullivan     232 Dryden Terrace       Appleton   \n",
       "1              2      Harry      Davis                123 ABC  New York City   \n",
       "2              3   Michelle      White   185 Manitowish Point        Atlanta   \n",
       "3              4      Marie       Wood  98869 Claremont Place       Pasadena   \n",
       "4              5      Karen     Fisher   4323 Bluestem Center   Philadelphia   \n",
       "5              6       Gary    Carroll    678 Wayridge Center       Scranton   \n",
       "6              7       Paul   Gonzales       47 Main Crossing     Pittsburgh   \n",
       "7              8       Rose       Sims    03535 Knutson Place    Hattiesburg   \n",
       "8            316     Ronald     Powell       2 Crowley Center       Pasadena   \n",
       "9            317       Judy   Harrison       59517 Dottie Way     Birmingham   \n",
       "10           318     Andrew  Robertson       9812 Troy Avenue        Houston   \n",
       "11           319       Ruth   Gonzales        0 Mcguire Court  New York City   \n",
       "12           320    Heather    Hawkins    07155 Calypso Alley  Daytona Beach   \n",
       "13           321     Thomas     Lawson   061 Magdeline Circle         London   \n",
       "14           322       Gary    Carroll    678 Wayridge Center       Scranton   \n",
       "\n",
       "           state     zip             phone                           email  \n",
       "0          12345  654321      334-6754-333             dsullivan1@ucla.edu  \n",
       "1       New York   55555  1-(999)999-99999  hdavis3@networkadvertising.org  \n",
       "2        Georgia   30323   1-(678)692-6250                 mwhite4@hud.gov  \n",
       "3     California   91125   1-(626)747-3764           mwood5@bravesites.com  \n",
       "4   Pennsylvania   19115   1-(267)279-4286                kfishere@blogger  \n",
       "5   Pennsylvania   18514   1-(570)785-1034         gcarrollg@discovery.com  \n",
       "6   Pennsylvania   15205   1-(724)209-2821             pgonzalesh@pbs.pqrs  \n",
       "7    Mississippi   39404   1-(601)773-3815           rsimsi@slideshare.net  \n",
       "8     California   91131   1-(626)574-7779              rpowell0@jomla.org  \n",
       "9        Alabama   35263   1-(205)308-3808            jharrison7@sogou.com  \n",
       "10         Texas   77085   1-(713)453-8878          arobertson8@census.gov  \n",
       "11      New York   10115   1-(212)506-2497          rgonzales9@shop-pro.jp  \n",
       "12       Florida   32128   1-(386)294-7334            hhawkin@amazon.co.uk  \n",
       "13      Kentucky   40745   1-(606)272-1234               tlawsonf@admin.ch  \n",
       "14  Pennsylvania   18514   1-(500)785-2234           gcarllg@discovery.com  "
      ]
     },
     "execution_count": 421,
     "metadata": {},
     "output_type": "execute_result"
    }
   ],
   "source": [
    "bank_cust_data.head(15)"
   ]
  },
  {
   "cell_type": "code",
   "execution_count": 422,
   "metadata": {
    "collapsed": false
   },
   "outputs": [
    {
     "data": {
      "text/plain": [
       "source_rowID     int64\n",
       "first_name      object\n",
       "last_name       object\n",
       "street          object\n",
       "city            object\n",
       "state           object\n",
       "zip              int64\n",
       "phone           object\n",
       "email           object\n",
       "dtype: object"
      ]
     },
     "execution_count": 422,
     "metadata": {},
     "output_type": "execute_result"
    }
   ],
   "source": [
    "bank_cust_data.dtypes"
   ]
  },
  {
   "cell_type": "code",
   "execution_count": 423,
   "metadata": {
    "collapsed": false
   },
   "outputs": [],
   "source": [
    "search = ZipcodeSearchEngine()\n",
    "\n",
    "for index, row in bank_cust_data.iterrows():\n",
    "    estm_zip = (search.by_zipcode(row['zip'])).Zipcode\n",
    "    row['est_zip']= estm_zip\n",
    "    if(len(str(row['zip'])) == 5 and row['zip'] == estm_zip):\n",
    "        row['valid_zip'] = True\n",
    "\n",
    "\n",
    "      "
   ]
  },
  {
   "cell_type": "code",
   "execution_count": 424,
   "metadata": {
    "collapsed": false
   },
   "outputs": [],
   "source": [
    "series = bank_cust_data['zip']"
   ]
  },
  {
   "cell_type": "code",
   "execution_count": 331,
   "metadata": {
    "collapsed": false
   },
   "outputs": [
    {
     "name": "stdout",
     "output_type": "stream",
     "text": [
      "0     654321\n",
      "1      55555\n",
      "2      30323\n",
      "3      91125\n",
      "4      19115\n",
      "5      18514\n",
      "6      15205\n",
      "7      39404\n",
      "8      91131\n",
      "9      35263\n",
      "10     77085\n",
      "11     10115\n",
      "12     32128\n",
      "13     40745\n",
      "14     18514\n",
      "Name: zip, dtype: int64\n"
     ]
    }
   ],
   "source": [
    "print(series)"
   ]
  },
  {
   "cell_type": "code",
   "execution_count": 429,
   "metadata": {
    "collapsed": false
   },
   "outputs": [],
   "source": [
    "from pandas import Series\n",
    "data_zipcodes = []\n",
    "data_cities = []\n",
    "data_states = []\n",
    "index1 = series.index\n",
    "\n",
    "for index, zipcode in series.items():\n",
    "        zipobj = search.by_zipcode(str(zipcode))\n",
    "        estimated_zip = zipobj.Zipcode\n",
    "        estimated_city = zipobj.City\n",
    "        estimated_state = zipobj.State\n",
    "        data_zipcodes.append(estimated_zip)\n",
    "        data_cities.append(estimated_city)\n",
    "        data_states.append(estimated_state)\n",
    "        \n",
    "zip_series = Series(data_zipcodes,index =index1)\n",
    "cities_series = Series(data_cities,index =index1)\n",
    "states_series = Series(data_states,index =index1)"
   ]
  },
  {
   "cell_type": "code",
   "execution_count": 430,
   "metadata": {
    "collapsed": false
   },
   "outputs": [
    {
     "name": "stdout",
     "output_type": "stream",
     "text": [
      "[None, None, None, None, '19115', None, '15205', None, None, None, '77085', '10115', '32128', None, None]\n"
     ]
    }
   ],
   "source": [
    "print(data_zipcodes)"
   ]
  },
  {
   "cell_type": "code",
   "execution_count": 431,
   "metadata": {
    "collapsed": false
   },
   "outputs": [
    {
     "name": "stdout",
     "output_type": "stream",
     "text": [
      "0      None\n",
      "1      None\n",
      "2      None\n",
      "3      None\n",
      "4     19115\n",
      "5      None\n",
      "6     15205\n",
      "7      None\n",
      "8      None\n",
      "9      None\n",
      "10    77085\n",
      "11    10115\n",
      "12    32128\n",
      "13     None\n",
      "14     None\n",
      "dtype: object\n"
     ]
    }
   ],
   "source": [
    "print(zip_series)"
   ]
  },
  {
   "cell_type": "code",
   "execution_count": 432,
   "metadata": {
    "collapsed": true
   },
   "outputs": [],
   "source": [
    "bank_cust_data[\"est_zip\"] = zip_series\n",
    "bank_cust_data[\"est_city\"] = cities_series\n",
    "bank_cust_data[\"est_state\"] = states_series"
   ]
  },
  {
   "cell_type": "code",
   "execution_count": 336,
   "metadata": {
    "collapsed": false
   },
   "outputs": [
    {
     "name": "stdout",
     "output_type": "stream",
     "text": [
      "    source_rowID first_name  last_name                 street           city  \\\n",
      "0              1     Dennis   Sullivan     232 Dryden Terrace       Appleton   \n",
      "1              2      Harry      Davis                123 ABC  New York City   \n",
      "2              3   Michelle      White   185 Manitowish Point        Atlanta   \n",
      "3              4      Marie       Wood  98869 Claremont Place       Pasadena   \n",
      "4              5      Karen     Fisher   4323 Bluestem Center   Philadelphia   \n",
      "5              6       Gary    Carroll    678 Wayridge Center       Scranton   \n",
      "6              7       Paul   Gonzales       47 Main Crossing     Pittsburgh   \n",
      "7              8       Rose       Sims    03535 Knutson Place    Hattiesburg   \n",
      "8            316     Ronald     Powell       2 Crowley Center       Pasadena   \n",
      "9            317       Judy   Harrison       59517 Dottie Way     Birmingham   \n",
      "10           318     Andrew  Robertson       9812 Troy Avenue        Houston   \n",
      "11           319       Ruth   Gonzales        0 Mcguire Court  New York City   \n",
      "12           320    Heather    Hawkins    07155 Calypso Alley  Daytona Beach   \n",
      "13           321     Thomas     Lawson   061 Magdeline Circle         London   \n",
      "14           322       Gary    Carroll    678 Wayridge Center       Scranton   \n",
      "\n",
      "           state     zip             phone                           email  \\\n",
      "0          12345  654321      334-6754-333             dsullivan1@ucla.edu   \n",
      "1       New York   55555  1-(999)999-99999  hdavis3@networkadvertising.org   \n",
      "2        Georgia   30323   1-(678)692-6250                 mwhite4@hud.gov   \n",
      "3     California   91125   1-(626)747-3764           mwood5@bravesites.com   \n",
      "4   Pennsylvania   19115   1-(267)279-4286                kfishere@blogger   \n",
      "5   Pennsylvania   18514   1-(570)785-1034         gcarrollg@discovery.com   \n",
      "6   Pennsylvania   15205   1-(724)209-2821              pgonzalesh@pbs.org   \n",
      "7    Mississippi   39404   1-(601)773-3815           rsimsi@slideshare.net   \n",
      "8     California   91131   1-(626)574-7779              rpowell0@jomla.org   \n",
      "9        Alabama   35263   1-(205)308-3808            jharrison7@sogou.com   \n",
      "10         Texas   77085   1-(713)453-8878          arobertson8@census.gov   \n",
      "11      New York   10115   1-(212)506-2497          rgonzales9@shop-pro.jp   \n",
      "12       Florida   32128   1-(386)294-7334            hhawkin@amazon.co.uk   \n",
      "13      Kentucky   40745   1-(606)272-1234               tlawsonf@admin.ch   \n",
      "14  Pennsylvania   18514   1-(500)785-2234           gcarllg@discovery.com   \n",
      "\n",
      "   est_zip      est_city est_state  \n",
      "0     None          None      None  \n",
      "1     None          None      None  \n",
      "2     None          None      None  \n",
      "3     None          None      None  \n",
      "4    19115  Philadelphia        PA  \n",
      "5     None          None      None  \n",
      "6    15205    Pittsburgh        PA  \n",
      "7     None          None      None  \n",
      "8     None          None      None  \n",
      "9     None          None      None  \n",
      "10   77085       Houston        TX  \n",
      "11   10115      New York        NY  \n",
      "12   32128   Port Orange        FL  \n",
      "13    None          None      None  \n",
      "14    None          None      None  \n"
     ]
    }
   ],
   "source": [
    "print(bank_cust_data)"
   ]
  },
  {
   "cell_type": "markdown",
   "metadata": {},
   "source": [
    "Steps for phone number validation and standardization: \n",
    "1) strip all non numeric characters like brackets, - etc \n",
    "2)append a +1 sign at the beginning (for USA) where the no of digits is 10 \n",
    "  if no of digits(numerics) > 11 or less than the standard 10 ? ---> pending\n",
    "3) use parse, \n",
    "#is possible number, is valid no \n",
    "4) standardize the format (select 1 format)\n"
   ]
  },
  {
   "cell_type": "code",
   "execution_count": 433,
   "metadata": {
    "collapsed": false
   },
   "outputs": [],
   "source": [
    "# pip install phonenumbers\n",
    "#Phone numbers \n",
    "import phonenumbers\n",
    "from phonenumbers import geocoder"
   ]
  },
  {
   "cell_type": "code",
   "execution_count": 339,
   "metadata": {
    "collapsed": true
   },
   "outputs": [],
   "source": [
    "x = phonenumbers.parse(\"+442083661177\", None)"
   ]
  },
  {
   "cell_type": "code",
   "execution_count": 340,
   "metadata": {
    "collapsed": false
   },
   "outputs": [
    {
     "name": "stdout",
     "output_type": "stream",
     "text": [
      "Country Code: 44 National Number: 2083661177\n"
     ]
    }
   ],
   "source": [
    "print(x)"
   ]
  },
  {
   "cell_type": "code",
   "execution_count": 341,
   "metadata": {
    "collapsed": false
   },
   "outputs": [
    {
     "data": {
      "text/plain": [
       "True"
      ]
     },
     "execution_count": 341,
     "metadata": {},
     "output_type": "execute_result"
    }
   ],
   "source": [
    "phonenumbers.is_possible_number(x)"
   ]
  },
  {
   "cell_type": "code",
   "execution_count": 342,
   "metadata": {
    "collapsed": false
   },
   "outputs": [
    {
     "data": {
      "text/plain": [
       "True"
      ]
     },
     "execution_count": 342,
     "metadata": {},
     "output_type": "execute_result"
    }
   ],
   "source": [
    "phonenumbers.is_valid_number(x)"
   ]
  },
  {
   "cell_type": "code",
   "execution_count": 343,
   "metadata": {
    "collapsed": false
   },
   "outputs": [
    {
     "ename": "NumberParseException",
     "evalue": "(0) Missing or invalid default region.",
     "output_type": "error",
     "traceback": [
      "\u001b[0;31m---------------------------------------------------------------------------\u001b[0m",
      "\u001b[0;31mNumberParseException\u001b[0m                      Traceback (most recent call last)",
      "\u001b[0;32m<ipython-input-343-6810ca4cc705>\u001b[0m in \u001b[0;36m<module>\u001b[0;34m()\u001b[0m\n\u001b[0;32m----> 1\u001b[0;31m \u001b[0my\u001b[0m \u001b[0;34m=\u001b[0m\u001b[0mphonenumbers\u001b[0m\u001b[0;34m.\u001b[0m\u001b[0mparse\u001b[0m\u001b[0;34m(\u001b[0m\u001b[0;34m\"334-6754-333\"\u001b[0m\u001b[0;34m,\u001b[0m\u001b[0;32mNone\u001b[0m\u001b[0;34m)\u001b[0m\u001b[0;34m\u001b[0m\u001b[0m\n\u001b[0m\u001b[1;32m      2\u001b[0m \u001b[0mprint\u001b[0m\u001b[0;34m(\u001b[0m\u001b[0my\u001b[0m\u001b[0;34m)\u001b[0m\u001b[0;34m\u001b[0m\u001b[0m\n",
      "\u001b[0;32m/Users/lakshmi/anaconda/lib/python3.6/site-packages/phonenumbers/phonenumberutil.py\u001b[0m in \u001b[0;36mparse\u001b[0;34m(number, region, keep_raw_input, numobj, _check_region)\u001b[0m\n\u001b[1;32m   2810\u001b[0m     \u001b[0;32mif\u001b[0m \u001b[0m_check_region\u001b[0m \u001b[0;32mand\u001b[0m \u001b[0;32mnot\u001b[0m \u001b[0m_check_region_for_parsing\u001b[0m\u001b[0;34m(\u001b[0m\u001b[0mnational_number\u001b[0m\u001b[0;34m,\u001b[0m \u001b[0mregion\u001b[0m\u001b[0;34m)\u001b[0m\u001b[0;34m:\u001b[0m\u001b[0;34m\u001b[0m\u001b[0m\n\u001b[1;32m   2811\u001b[0m         raise NumberParseException(NumberParseException.INVALID_COUNTRY_CODE,\n\u001b[0;32m-> 2812\u001b[0;31m                                    \"Missing or invalid default region.\")\n\u001b[0m\u001b[1;32m   2813\u001b[0m     \u001b[0;32mif\u001b[0m \u001b[0mkeep_raw_input\u001b[0m\u001b[0;34m:\u001b[0m\u001b[0;34m\u001b[0m\u001b[0m\n\u001b[1;32m   2814\u001b[0m         \u001b[0mnumobj\u001b[0m\u001b[0;34m.\u001b[0m\u001b[0mraw_input\u001b[0m \u001b[0;34m=\u001b[0m \u001b[0mnumber\u001b[0m\u001b[0;34m\u001b[0m\u001b[0m\n",
      "\u001b[0;31mNumberParseException\u001b[0m: (0) Missing or invalid default region."
     ]
    }
   ],
   "source": [
    "y =phonenumbers.parse(\"334-6754-333\",None)\n",
    "print(y)"
   ]
  },
  {
   "cell_type": "code",
   "execution_count": 344,
   "metadata": {
    "collapsed": false
   },
   "outputs": [
    {
     "name": "stdout",
     "output_type": "stream",
     "text": [
      "Country Code: 1 National Number: 99999999999\n"
     ]
    }
   ],
   "source": [
    "z=phonenumbers.parse(\"+199999999999\",None)\n",
    "print(z)"
   ]
  },
  {
   "cell_type": "code",
   "execution_count": 345,
   "metadata": {
    "collapsed": false
   },
   "outputs": [
    {
     "data": {
      "text/plain": [
       "False"
      ]
     },
     "execution_count": 345,
     "metadata": {},
     "output_type": "execute_result"
    }
   ],
   "source": [
    "phonenumbers.is_possible_number(z)\n"
   ]
  },
  {
   "cell_type": "code",
   "execution_count": 346,
   "metadata": {
    "collapsed": false
   },
   "outputs": [
    {
     "data": {
      "text/plain": [
       "False"
      ]
     },
     "execution_count": 346,
     "metadata": {},
     "output_type": "execute_result"
    }
   ],
   "source": [
    "phonenumbers.is_valid_number(z)"
   ]
  },
  {
   "cell_type": "code",
   "execution_count": 347,
   "metadata": {
    "collapsed": false
   },
   "outputs": [
    {
     "data": {
      "text/plain": [
       "'99999999999'"
      ]
     },
     "execution_count": 347,
     "metadata": {},
     "output_type": "execute_result"
    }
   ],
   "source": [
    "#formattion options \n",
    "\n",
    "phonenumbers.format_number(z, phonenumbers.PhoneNumberFormat.NATIONAL)"
   ]
  },
  {
   "cell_type": "code",
   "execution_count": 348,
   "metadata": {
    "collapsed": false
   },
   "outputs": [
    {
     "data": {
      "text/plain": [
       "'+44 20 8366 1177'"
      ]
     },
     "execution_count": 348,
     "metadata": {},
     "output_type": "execute_result"
    }
   ],
   "source": [
    "phonenumbers.format_number(x, phonenumbers.PhoneNumberFormat.INTERNATIONAL)"
   ]
  },
  {
   "cell_type": "code",
   "execution_count": 349,
   "metadata": {
    "collapsed": false
   },
   "outputs": [
    {
     "data": {
      "text/plain": [
       "'+442083661177'"
      ]
     },
     "execution_count": 349,
     "metadata": {},
     "output_type": "execute_result"
    }
   ],
   "source": [
    "phonenumbers.format_number(x, phonenumbers.PhoneNumberFormat.E164)"
   ]
  },
  {
   "cell_type": "code",
   "execution_count": 350,
   "metadata": {
    "collapsed": false
   },
   "outputs": [
    {
     "name": "stdout",
     "output_type": "stream",
     "text": [
      "''\n"
     ]
    }
   ],
   "source": [
    "print(repr(geocoder.description_for_number(z, \"en\")))"
   ]
  },
  {
   "cell_type": "code",
   "execution_count": 351,
   "metadata": {
    "collapsed": false
   },
   "outputs": [
    {
     "name": "stdout",
     "output_type": "stream",
     "text": [
      "0         334-6754-333\n",
      "1     1-(999)999-99999\n",
      "2      1-(678)692-6250\n",
      "3      1-(626)747-3764\n",
      "4      1-(267)279-4286\n",
      "5      1-(570)785-1034\n",
      "6      1-(724)209-2821\n",
      "7      1-(601)773-3815\n",
      "8      1-(626)574-7779\n",
      "9      1-(205)308-3808\n",
      "10     1-(713)453-8878\n",
      "11     1-(212)506-2497\n",
      "12     1-(386)294-7334\n",
      "13     1-(606)272-1234\n",
      "14     1-(500)785-2234\n",
      "Name: phone, dtype: object\n"
     ]
    }
   ],
   "source": [
    "#code for processing phone numbers \n",
    "phone_series = bank_cust_data[\"phone\"]\n",
    "print(phone_series)\n"
   ]
  },
  {
   "cell_type": "code",
   "execution_count": 434,
   "metadata": {
    "collapsed": false
   },
   "outputs": [],
   "source": [
    "import re \n",
    "formatted_phone_series=[]\n",
    "valid_phone_series = []\n",
    "for ind, phone_no in phone_series.items():\n",
    "    phone_str = str(phone_no)\n",
    "    phone_stripped = re.sub(r'[^0-9 ]',r'',phone_str)\n",
    "    #print(phone_no,phone_stripped)  \n",
    "    if(len(phone_stripped) ==10):\n",
    "        phone_stripped = '1'+phone_stripped\n",
    "    phone_stripped = '+'+phone_stripped\n",
    "    #print(phone_no,phone_stripped) \n",
    "    p_parsed=phonenumbers.parse(phone_stripped,None)\n",
    "    formatted_phone_series.append(phonenumbers.format_number(p_parsed, phonenumbers.PhoneNumberFormat.E164))\n",
    "    if(phonenumbers.is_possible_number(p_parsed) and phonenumbers.is_valid_number(p_parsed)):\n",
    "        valid_phone_series.append(True)\n",
    "    else:\n",
    "        valid_phone_series.append(False)\n",
    "bank_cust_data[\"formatted_phone\"] = formatted_phone_series\n",
    "bank_cust_data[\"valid_phone_flag\"] = valid_phone_series\n"
   ]
  },
  {
   "cell_type": "code",
   "execution_count": 435,
   "metadata": {
    "collapsed": false
   },
   "outputs": [
    {
     "name": "stdout",
     "output_type": "stream",
     "text": [
      "    source_rowID first_name  last_name                 street           city  \\\n",
      "0              1     Dennis   Sullivan     232 Dryden Terrace       Appleton   \n",
      "1              2      Harry      Davis                123 ABC  New York City   \n",
      "2              3   Michelle      White   185 Manitowish Point        Atlanta   \n",
      "3              4      Marie       Wood  98869 Claremont Place       Pasadena   \n",
      "4              5      Karen     Fisher   4323 Bluestem Center   Philadelphia   \n",
      "5              6       Gary    Carroll    678 Wayridge Center       Scranton   \n",
      "6              7       Paul   Gonzales       47 Main Crossing     Pittsburgh   \n",
      "7              8       Rose       Sims    03535 Knutson Place    Hattiesburg   \n",
      "8            316     Ronald     Powell       2 Crowley Center       Pasadena   \n",
      "9            317       Judy   Harrison       59517 Dottie Way     Birmingham   \n",
      "10           318     Andrew  Robertson       9812 Troy Avenue        Houston   \n",
      "11           319       Ruth   Gonzales        0 Mcguire Court  New York City   \n",
      "12           320    Heather    Hawkins    07155 Calypso Alley  Daytona Beach   \n",
      "13           321     Thomas     Lawson   061 Magdeline Circle         London   \n",
      "14           322       Gary    Carroll    678 Wayridge Center       Scranton   \n",
      "\n",
      "           state     zip             phone                           email  \\\n",
      "0          12345  654321      334-6754-333             dsullivan1@ucla.edu   \n",
      "1       New York   55555  1-(999)999-99999  hdavis3@networkadvertising.org   \n",
      "2        Georgia   30323   1-(678)692-6250                 mwhite4@hud.gov   \n",
      "3     California   91125   1-(626)747-3764           mwood5@bravesites.com   \n",
      "4   Pennsylvania   19115   1-(267)279-4286                kfishere@blogger   \n",
      "5   Pennsylvania   18514   1-(570)785-1034         gcarrollg@discovery.com   \n",
      "6   Pennsylvania   15205   1-(724)209-2821             pgonzalesh@pbs.pqrs   \n",
      "7    Mississippi   39404   1-(601)773-3815           rsimsi@slideshare.net   \n",
      "8     California   91131   1-(626)574-7779              rpowell0@jomla.org   \n",
      "9        Alabama   35263   1-(205)308-3808            jharrison7@sogou.com   \n",
      "10         Texas   77085   1-(713)453-8878          arobertson8@census.gov   \n",
      "11      New York   10115   1-(212)506-2497          rgonzales9@shop-pro.jp   \n",
      "12       Florida   32128   1-(386)294-7334            hhawkin@amazon.co.uk   \n",
      "13      Kentucky   40745   1-(606)272-1234               tlawsonf@admin.ch   \n",
      "14  Pennsylvania   18514   1-(500)785-2234           gcarllg@discovery.com   \n",
      "\n",
      "   est_zip      est_city est_state formatted_phone valid_phone_flag  \n",
      "0     None          None      None    +13346754333             True  \n",
      "1     None          None      None   +199999999999            False  \n",
      "2     None          None      None    +16786926250             True  \n",
      "3     None          None      None    +16267473764             True  \n",
      "4    19115  Philadelphia        PA    +12672794286             True  \n",
      "5     None          None      None    +15707851034             True  \n",
      "6    15205    Pittsburgh        PA    +17242092821             True  \n",
      "7     None          None      None    +16017733815             True  \n",
      "8     None          None      None    +16265747779             True  \n",
      "9     None          None      None    +12053083808             True  \n",
      "10   77085       Houston        TX    +17134538878             True  \n",
      "11   10115      New York        NY    +12125062497             True  \n",
      "12   32128   Port Orange        FL    +13862947334             True  \n",
      "13    None          None      None    +16062721234             True  \n",
      "14    None          None      None    +15007852234             True  \n"
     ]
    }
   ],
   "source": [
    "print(bank_cust_data)"
   ]
  },
  {
   "cell_type": "markdown",
   "metadata": {},
   "source": [
    "#Email Validation \n",
    "\n",
    "email : xyz@abc.peterpan\n",
    "\n",
    "1. regex check email validity (something@something.domain) Y\n",
    "2. if domain is valid N\n",
    "3. sub domain etc...\n",
    "\n",
    "\n",
    "https://pypi.python.org/pypi/tld\n",
    "\n",
    "https://pypi.python.org/pypi/validate_email\n",
    "#pip install validate_email\n",
    "#pip install pyDNS OR Py3DNS"
   ]
  },
  {
   "cell_type": "code",
   "execution_count": 354,
   "metadata": {
    "collapsed": true
   },
   "outputs": [],
   "source": [
    "#basic usage \n",
    "\n",
    "from validate_email import validate_email\n",
    "is_valid = validate_email('lakshmichaudhari@gmail.com')"
   ]
  },
  {
   "cell_type": "code",
   "execution_count": 355,
   "metadata": {
    "collapsed": false
   },
   "outputs": [
    {
     "name": "stdout",
     "output_type": "stream",
     "text": [
      "True\n"
     ]
    }
   ],
   "source": [
    "print(is_valid)"
   ]
  },
  {
   "cell_type": "code",
   "execution_count": 356,
   "metadata": {
    "collapsed": true
   },
   "outputs": [],
   "source": [
    "#check if domain has SMTP server\n",
    "\n",
    "is_valid_domain = validate_email('lakshmichaudhari@gmail.com',check_mx=True)"
   ]
  },
  {
   "cell_type": "code",
   "execution_count": 357,
   "metadata": {
    "collapsed": false
   },
   "outputs": [
    {
     "name": "stdout",
     "output_type": "stream",
     "text": [
      "None\n"
     ]
    }
   ],
   "source": [
    "print(is_valid_domain)"
   ]
  },
  {
   "cell_type": "code",
   "execution_count": 358,
   "metadata": {
    "collapsed": true
   },
   "outputs": [],
   "source": [
    "#verify email exists \n",
    "\n",
    "is_valid_email = validate_email('lakshmichaudhari@gmail.com',verify=True)"
   ]
  },
  {
   "cell_type": "code",
   "execution_count": 359,
   "metadata": {
    "collapsed": false
   },
   "outputs": [
    {
     "name": "stdout",
     "output_type": "stream",
     "text": [
      "None\n"
     ]
    }
   ],
   "source": [
    "print(is_valid_email)"
   ]
  },
  {
   "cell_type": "code",
   "execution_count": 360,
   "metadata": {
    "collapsed": false
   },
   "outputs": [
    {
     "ename": "ModuleNotFoundError",
     "evalue": "No module named 'dns'",
     "output_type": "error",
     "traceback": [
      "\u001b[0;31m---------------------------------------------------------------------------\u001b[0m",
      "\u001b[0;31mModuleNotFoundError\u001b[0m                       Traceback (most recent call last)",
      "\u001b[0;32m<ipython-input-360-9041bf87ee8f>\u001b[0m in \u001b[0;36m<module>\u001b[0;34m()\u001b[0m\n\u001b[1;32m      6\u001b[0m \u001b[0;31m#import dns\u001b[0m\u001b[0;34m\u001b[0m\u001b[0;34m\u001b[0m\u001b[0m\n\u001b[1;32m      7\u001b[0m \u001b[0;34m\u001b[0m\u001b[0m\n\u001b[0;32m----> 8\u001b[0;31m \u001b[0;32mfrom\u001b[0m \u001b[0memail_validator\u001b[0m \u001b[0;32mimport\u001b[0m \u001b[0mvalidate_email\u001b[0m\u001b[0;34m,\u001b[0m \u001b[0mEmailNotValidError\u001b[0m\u001b[0;34m\u001b[0m\u001b[0m\n\u001b[0m\u001b[1;32m      9\u001b[0m \u001b[0;34m\u001b[0m\u001b[0m\n\u001b[1;32m     10\u001b[0m \u001b[0memail\u001b[0m \u001b[0;34m=\u001b[0m \u001b[0;34m\"lakshmichaudhari@gmail.com\"\u001b[0m\u001b[0;34m\u001b[0m\u001b[0m\n",
      "\u001b[0;32m/Users/lakshmi/anaconda/lib/python3.6/site-packages/email_validator/__init__.py\u001b[0m in \u001b[0;36m<module>\u001b[0;34m()\u001b[0m\n\u001b[1;32m      4\u001b[0m \u001b[0;32mimport\u001b[0m \u001b[0mre\u001b[0m\u001b[0;34m\u001b[0m\u001b[0m\n\u001b[1;32m      5\u001b[0m \u001b[0;32mimport\u001b[0m \u001b[0municodedata\u001b[0m\u001b[0;34m\u001b[0m\u001b[0m\n\u001b[0;32m----> 6\u001b[0;31m \u001b[0;32mimport\u001b[0m \u001b[0mdns\u001b[0m\u001b[0;34m.\u001b[0m\u001b[0mresolver\u001b[0m\u001b[0;34m,\u001b[0m \u001b[0mdns\u001b[0m\u001b[0;34m.\u001b[0m\u001b[0mexception\u001b[0m\u001b[0;34m\u001b[0m\u001b[0m\n\u001b[0m\u001b[1;32m      7\u001b[0m \u001b[0;32mimport\u001b[0m \u001b[0midna\u001b[0m \u001b[0;31m# implements IDNA 2008; Python's codec is only IDNA 2003\u001b[0m\u001b[0;34m\u001b[0m\u001b[0m\n\u001b[1;32m      8\u001b[0m \u001b[0;34m\u001b[0m\u001b[0m\n",
      "\u001b[0;31mModuleNotFoundError\u001b[0m: No module named 'dns'"
     ]
    }
   ],
   "source": [
    "#https://github.com/JoshData/python-email-validator\n",
    "#pip install email_validator \n",
    "#git clone https://github.com/rthalley/dnspython\n",
    "#cd dnspython/\n",
    "# python setup.py install\n",
    "#import dns\n",
    "\n",
    "from email_validator import validate_email, EmailNotValidError\n",
    "\n",
    "email = \"lakshmichaudhari@gmail.com\"\n",
    "\n",
    "try:\n",
    "    v = validate_email(email) # validate and get info\n",
    "    email = v[\"email\"] # replace with normalized form\n",
    "except EmailNotValidError as e:\n",
    "    # email is not valid, exception message is human-readable\n",
    "    print(str(e))\n"
   ]
  },
  {
   "cell_type": "code",
   "execution_count": null,
   "metadata": {
    "collapsed": false
   },
   "outputs": [],
   "source": [
    "import dns\n",
    "#import dnspython.resolver, dnspython.exception"
   ]
  },
  {
   "cell_type": "code",
   "execution_count": null,
   "metadata": {
    "collapsed": true
   },
   "outputs": [],
   "source": [
    "#https://pypi.python.org/pypi/validate-email-address/1\n",
    "from validate_email_address import validate_email"
   ]
  },
  {
   "cell_type": "code",
   "execution_count": null,
   "metadata": {
    "collapsed": false
   },
   "outputs": [],
   "source": [
    "validate_email('example@example.com')"
   ]
  },
  {
   "cell_type": "code",
   "execution_count": null,
   "metadata": {
    "collapsed": false
   },
   "outputs": [],
   "source": [
    "print(validate_email('example@sharklasers.com', check_mx=True))"
   ]
  },
  {
   "cell_type": "code",
   "execution_count": null,
   "metadata": {
    "collapsed": true
   },
   "outputs": [],
   "source": [
    "validate_email('example@sharklasers.com', verify=True)"
   ]
  },
  {
   "cell_type": "code",
   "execution_count": null,
   "metadata": {
    "collapsed": false
   },
   "outputs": [],
   "source": [
    "validate_email('lakshmichaudhari@gmail.com')"
   ]
  },
  {
   "cell_type": "code",
   "execution_count": 376,
   "metadata": {
    "collapsed": false
   },
   "outputs": [
    {
     "name": "stdout",
     "output_type": "stream",
     "text": [
      "None\n"
     ]
    }
   ],
   "source": [
    "print(validate_email('lakshmichaudhari@gmail.com', check_mx=True))"
   ]
  },
  {
   "cell_type": "code",
   "execution_count": 375,
   "metadata": {
    "collapsed": false
   },
   "outputs": [
    {
     "name": "stdout",
     "output_type": "stream",
     "text": [
      "None\n"
     ]
    }
   ],
   "source": [
    "print(validate_email('lakshmichaudhari@gmail.com', verify=True))"
   ]
  },
  {
   "cell_type": "code",
   "execution_count": null,
   "metadata": {
    "collapsed": false
   },
   "outputs": [],
   "source": [
    "from tld import get_tld"
   ]
  },
  {
   "cell_type": "code",
   "execution_count": null,
   "metadata": {
    "collapsed": true
   },
   "outputs": [],
   "source": [
    "from email.utils import parseaddr"
   ]
  },
  {
   "cell_type": "code",
   "execution_count": 374,
   "metadata": {
    "collapsed": false
   },
   "outputs": [
    {
     "data": {
      "text/plain": [
       "('', 'lakshmichaudhari@gmail.com')"
      ]
     },
     "execution_count": 374,
     "metadata": {},
     "output_type": "execute_result"
    }
   ],
   "source": [
    "parseaddr('lakshmichaudhari@gmail.com')"
   ]
  },
  {
   "cell_type": "markdown",
   "metadata": {},
   "source": [
    "#Email Validation Steps \n",
    "\n",
    "Pre processing steps: \n",
    "1) Create a text file of valid Top Level domains https://gist.github.com/stantonk/b0a937ca9c035a83b14c\n",
    "\n",
    "http://www.iana.org/domains/root/db\n",
    "\n",
    "1) Validate that the format is correct such as example@example.com , only one '@' and atleast 1 '.' after the '@'\n",
    "2) Parse email address to extract Top level domain\n",
    "3) Validate that the Top level domain is valid \n",
    "\n",
    "\n"
   ]
  },
  {
   "cell_type": "code",
   "execution_count": null,
   "metadata": {
    "collapsed": true
   },
   "outputs": [],
   "source": [
    "\n",
    "\n"
   ]
  },
  {
   "cell_type": "code",
   "execution_count": null,
   "metadata": {
    "collapsed": false
   },
   "outputs": [],
   "source": [
    "#Get list of valid TLD's\n",
    "#pip install HTMLParser \n",
    "#pip install HTMLParseError\n",
    "\n",
    "\n",
    "#web scraper to get list of top level domains \n",
    "import codecs\n",
    "import requests\n",
    "from bs4 import BeautifulSoup\n",
    "#import HTMLParser\n",
    "\n",
    "PER_LINE = 12\n",
    "\n",
    "text = requests.get('http://www.iana.org/domains/root/db').text\n",
    "soup = BeautifulSoup(text,'html.parser')\n",
    "x = soup.find('table', {'id': 'tld-table'})\n",
    "tlds = [anchor.text for anchor in x.find_all('a')]\n",
    "\n",
    "with codecs.open('legal_tlds.py', 'w', encoding='utf8') as f:\n",
    "\n",
    "    f.write(u'# -*- coding: utf-8 -*-\\n')\n",
    "    f.write(u'TLDS = set([\\n')\n",
    "\n",
    "    for i, tld in enumerate(tlds):\n",
    "        print(tld.encode('utf8'))\n",
    "\n",
    "        tld = tld.lstrip('.')\n",
    "\n",
    "        if i % PER_LINE == 0:\n",
    "            f.write('    ')\n",
    "\n",
    "        f.write(u'\\'%s\\',' % tld)\n",
    "        if i % PER_LINE == (PER_LINE - 1):\n",
    "            f.write('\\n')\n",
    "        else:\n",
    "            f.write(' ')\n",
    "\n",
    "    f.write(u'])\\n')"
   ]
  },
  {
   "cell_type": "code",
   "execution_count": null,
   "metadata": {
    "collapsed": true
   },
   "outputs": [],
   "source": [
    "#need to build scraper for TLDs\n"
   ]
  },
  {
   "cell_type": "code",
   "execution_count": 436,
   "metadata": {
    "collapsed": false
   },
   "outputs": [
    {
     "name": "stdout",
     "output_type": "stream",
     "text": [
      "['AAA', 'ABARTH', 'ABB', 'ABBOTT', 'ABBVIE', 'ABC', 'ABLE', 'ABOGADO', 'ABUDHABI', 'AC', 'ACADEMY', 'ACCENTURE', 'ACCOUNTANT', 'ACCOUNTANTS', 'ACO', 'ACTIVE', 'ACTOR', 'AD', 'ADAC', 'ADS', 'ADULT', 'AE', 'AEG', 'AERO', 'AETNA', 'AF', 'AFAMILYCOMPANY', 'AFL', 'AFRICA', 'AG', 'AGAKHAN', 'AGENCY', 'AI', 'AIG', 'AIGO', 'AIRBUS', 'AIRFORCE', 'AIRTEL', 'AKDN', 'AL', 'ALFAROMEO', 'ALIBABA', 'ALIPAY', 'ALLFINANZ', 'ALLSTATE', 'ALLY', 'ALSACE', 'ALSTOM', 'AM', 'AMERICANEXPRESS', 'AMERICANFAMILY', 'AMEX', 'AMFAM', 'AMICA', 'AMSTERDAM', 'ANALYTICS', 'ANDROID', 'ANQUAN', 'ANZ', 'AO', 'AOL', 'APARTMENTS', 'APP', 'APPLE', 'AQ', 'AQUARELLE', 'AR', 'ARAMCO', 'ARCHI', 'ARMY', 'ARPA', 'ART', 'ARTE', 'AS', 'ASDA', 'ASIA', 'ASSOCIATES', 'AT', 'ATHLETA', 'ATTORNEY', 'AU', 'AUCTION', 'AUDI', 'AUDIBLE', 'AUDIO', 'AUSPOST', 'AUTHOR', 'AUTO', 'AUTOS', 'AVIANCA', 'AW', 'AWS', 'AX', 'AXA', 'AZ', 'AZURE', 'BA', 'BABY', 'BAIDU', 'BANAMEX', 'BANANAREPUBLIC', 'BAND', 'BANK', 'BAR', 'BARCELONA', 'BARCLAYCARD', 'BARCLAYS', 'BAREFOOT', 'BARGAINS', 'BASEBALL', 'BASKETBALL', 'BAUHAUS', 'BAYERN', 'BB', 'BBC', 'BBT', 'BBVA', 'BCG', 'BCN', 'BD', 'BE', 'BEATS', 'BEAUTY', 'BEER', 'BENTLEY', 'BERLIN', 'BEST', 'BESTBUY', 'BET', 'BF', 'BG', 'BH', 'BHARTI', 'BI', 'BIBLE', 'BID', 'BIKE', 'BING', 'BINGO', 'BIO', 'BIZ', 'BJ', 'BLACK', 'BLACKFRIDAY', 'BLANCO', 'BLOCKBUSTER', 'BLOG', 'BLOOMBERG', 'BLUE', 'BM', 'BMS', 'BMW', 'BN', 'BNL', 'BNPPARIBAS', 'BO', 'BOATS', 'BOEHRINGER', 'BOFA', 'BOM', 'BOND', 'BOO', 'BOOK', 'BOOKING', 'BOOTS', 'BOSCH', 'BOSTIK', 'BOSTON', 'BOT', 'BOUTIQUE', 'BOX', 'BR', 'BRADESCO', 'BRIDGESTONE', 'BROADWAY', 'BROKER', 'BROTHER', 'BRUSSELS', 'BS', 'BT', 'BUDAPEST', 'BUGATTI', 'BUILD', 'BUILDERS', 'BUSINESS', 'BUY', 'BUZZ', 'BV', 'BW', 'BY', 'BZ', 'BZH', 'CA', 'CAB', 'CAFE', 'CAL', 'CALL', 'CALVINKLEIN', 'CAM', 'CAMERA', 'CAMP', 'CANCERRESEARCH', 'CANON', 'CAPETOWN', 'CAPITAL', 'CAPITALONE', 'CAR', 'CARAVAN', 'CARDS', 'CARE', 'CAREER', 'CAREERS', 'CARS', 'CARTIER', 'CASA', 'CASE', 'CASEIH', 'CASH', 'CASINO', 'CAT', 'CATERING', 'CATHOLIC', 'CBA', 'CBN', 'CBRE', 'CBS', 'CC', 'CD', 'CEB', 'CENTER', 'CEO', 'CERN', 'CF', 'CFA', 'CFD', 'CG', 'CH', 'CHANEL', 'CHANNEL', 'CHASE', 'CHAT', 'CHEAP', 'CHINTAI', 'CHLOE', 'CHRISTMAS', 'CHROME', 'CHRYSLER', 'CHURCH', 'CI', 'CIPRIANI', 'CIRCLE', 'CISCO', 'CITADEL', 'CITI', 'CITIC', 'CITY', 'CITYEATS', 'CK', 'CL', 'CLAIMS', 'CLEANING', 'CLICK', 'CLINIC', 'CLINIQUE', 'CLOTHING', 'CLOUD', 'CLUB', 'CLUBMED', 'CM', 'CN', 'CO', 'COACH', 'CODES', 'COFFEE', 'COLLEGE', 'COLOGNE', 'COM', 'COMCAST', 'COMMBANK', 'COMMUNITY', 'COMPANY', 'COMPARE', 'COMPUTER', 'COMSEC', 'CONDOS', 'CONSTRUCTION', 'CONSULTING', 'CONTACT', 'CONTRACTORS', 'COOKING', 'COOKINGCHANNEL', 'COOL', 'COOP', 'CORSICA', 'COUNTRY', 'COUPON', 'COUPONS', 'COURSES', 'CR', 'CREDIT', 'CREDITCARD', 'CREDITUNION', 'CRICKET', 'CROWN', 'CRS', 'CRUISE', 'CRUISES', 'CSC', 'CU', 'CUISINELLA', 'CV', 'CW', 'CX', 'CY', 'CYMRU', 'CYOU', 'CZ', 'DABUR', 'DAD', 'DANCE', 'DATA', 'DATE', 'DATING', 'DATSUN', 'DAY', 'DCLK', 'DDS', 'DE', 'DEAL', 'DEALER', 'DEALS', 'DEGREE', 'DELIVERY', 'DELL', 'DELOITTE', 'DELTA', 'DEMOCRAT', 'DENTAL', 'DENTIST', 'DESI', 'DESIGN', 'DEV', 'DHL', 'DIAMONDS', 'DIET', 'DIGITAL', 'DIRECT', 'DIRECTORY', 'DISCOUNT', 'DISCOVER', 'DISH', 'DIY', 'DJ', 'DK', 'DM', 'DNP', 'DO', 'DOCS', 'DOCTOR', 'DODGE', 'DOG', 'DOHA', 'DOMAINS', 'DOT', 'DOWNLOAD', 'DRIVE', 'DTV', 'DUBAI', 'DUCK', 'DUNLOP', 'DUNS', 'DUPONT', 'DURBAN', 'DVAG', 'DVR', 'DZ', 'EARTH', 'EAT', 'EC', 'ECO', 'EDEKA', 'EDU', 'EDUCATION', 'EE', 'EG', 'EMAIL', 'EMERCK', 'ENERGY', 'ENGINEER', 'ENGINEERING', 'ENTERPRISES', 'EPOST', 'EPSON', 'EQUIPMENT', 'ER', 'ERICSSON', 'ERNI', 'ES', 'ESQ', 'ESTATE', 'ESURANCE', 'ET', 'EU', 'EUROVISION', 'EUS', 'EVENTS', 'EVERBANK', 'EXCHANGE', 'EXPERT', 'EXPOSED', 'EXPRESS', 'EXTRASPACE', 'FAGE', 'FAIL', 'FAIRWINDS', 'FAITH', 'FAMILY', 'FAN', 'FANS', 'FARM', 'FARMERS', 'FASHION', 'FAST', 'FEDEX', 'FEEDBACK', 'FERRARI', 'FERRERO', 'FI', 'FIAT', 'FIDELITY', 'FIDO', 'FILM', 'FINAL', 'FINANCE', 'FINANCIAL', 'FIRE', 'FIRESTONE', 'FIRMDALE', 'FISH', 'FISHING', 'FIT', 'FITNESS', 'FJ', 'FK', 'FLICKR', 'FLIGHTS', 'FLIR', 'FLORIST', 'FLOWERS', 'FLY', 'FM', 'FO', 'FOO', 'FOOD', 'FOODNETWORK', 'FOOTBALL', 'FORD', 'FOREX', 'FORSALE', 'FORUM', 'FOUNDATION', 'FOX', 'FR', 'FREE', 'FRESENIUS', 'FRL', 'FROGANS', 'FRONTDOOR', 'FRONTIER', 'FTR', 'FUJITSU', 'FUJIXEROX', 'FUN', 'FUND', 'FURNITURE', 'FUTBOL', 'FYI', 'GA', 'GAL', 'GALLERY', 'GALLO', 'GALLUP', 'GAME', 'GAMES', 'GAP', 'GARDEN', 'GB', 'GBIZ', 'GD', 'GDN', 'GE', 'GEA', 'GENT', 'GENTING', 'GEORGE', 'GF', 'GG', 'GGEE', 'GH', 'GI', 'GIFT', 'GIFTS', 'GIVES', 'GIVING', 'GL', 'GLADE', 'GLASS', 'GLE', 'GLOBAL', 'GLOBO', 'GM', 'GMAIL', 'GMBH', 'GMO', 'GMX', 'GN', 'GODADDY', 'GOLD', 'GOLDPOINT', 'GOLF', 'GOO', 'GOODHANDS', 'GOODYEAR', 'GOOG', 'GOOGLE', 'GOP', 'GOT', 'GOV', 'GP', 'GQ', 'GR', 'GRAINGER', 'GRAPHICS', 'GRATIS', 'GREEN', 'GRIPE', 'GROUP', 'GS', 'GT', 'GU', 'GUARDIAN', 'GUCCI', 'GUGE', 'GUIDE', 'GUITARS', 'GURU', 'GW', 'GY', 'HAIR', 'HAMBURG', 'HANGOUT', 'HAUS', 'HBO', 'HDFC', 'HDFCBANK', 'HEALTH', 'HEALTHCARE', 'HELP', 'HELSINKI', 'HERE', 'HERMES', 'HGTV', 'HIPHOP', 'HISAMITSU', 'HITACHI', 'HIV', 'HK', 'HKT', 'HM', 'HN', 'HOCKEY', 'HOLDINGS', 'HOLIDAY', 'HOMEDEPOT', 'HOMEGOODS', 'HOMES', 'HOMESENSE', 'HONDA', 'HONEYWELL', 'HORSE', 'HOSPITAL', 'HOST', 'HOSTING', 'HOT', 'HOTELES', 'HOTELS', 'HOTMAIL', 'HOUSE', 'HOW', 'HR', 'HSBC', 'HT', 'HTC', 'HU', 'HUGHES', 'HYATT', 'HYUNDAI', 'IBM', 'ICBC', 'ICE', 'ICU', 'ID', 'IE', 'IEEE', 'IFM', 'IKANO', 'IL', 'IM', 'IMAMAT', 'IMDB', 'IMMO', 'IMMOBILIEN', 'IN', 'INDUSTRIES', 'INFINITI', 'INFO', 'ING', 'INK', 'INSTITUTE', 'INSURANCE', 'INSURE', 'INT', 'INTEL', 'INTERNATIONAL', 'INTUIT', 'INVESTMENTS', 'IO', 'IPIRANGA', 'IQ', 'IR', 'IRISH', 'IS', 'ISELECT', 'ISMAILI', 'IST', 'ISTANBUL', 'IT', 'ITAU', 'ITV', 'IVECO', 'IWC', 'JAGUAR', 'JAVA', 'JCB', 'JCP', 'JE', 'JEEP', 'JETZT', 'JEWELRY', 'JIO', 'JLC', 'JLL', 'JM', 'JMP', 'JNJ', 'JO', 'JOBS', 'JOBURG', 'JOT', 'JOY', 'JP', 'JPMORGAN', 'JPRS', 'JUEGOS', 'JUNIPER', 'KAUFEN', 'KDDI', 'KE', 'KERRYHOTELS', 'KERRYLOGISTICS', 'KERRYPROPERTIES', 'KFH', 'KG', 'KH', 'KI', 'KIA', 'KIM', 'KINDER', 'KINDLE', 'KITCHEN', 'KIWI', 'KM', 'KN', 'KOELN', 'KOMATSU', 'KOSHER', 'KP', 'KPMG', 'KPN', 'KR', 'KRD', 'KRED', 'KUOKGROUP', 'KW', 'KY', 'KYOTO', 'KZ', 'LA', 'LACAIXA', 'LADBROKES', 'LAMBORGHINI', 'LAMER', 'LANCASTER', 'LANCIA', 'LANCOME', 'LAND', 'LANDROVER', 'LANXESS', 'LASALLE', 'LAT', 'LATINO', 'LATROBE', 'LAW', 'LAWYER', 'LB', 'LC', 'LDS', 'LEASE', 'LECLERC', 'LEFRAK', 'LEGAL', 'LEGO', 'LEXUS', 'LGBT', 'LI', 'LIAISON', 'LIDL', 'LIFE', 'LIFEINSURANCE', 'LIFESTYLE', 'LIGHTING', 'LIKE', 'LILLY', 'LIMITED', 'LIMO', 'LINCOLN', 'LINDE', 'LINK', 'LIPSY', 'LIVE', 'LIVING', 'LIXIL', 'LK', 'LOAN', 'LOANS', 'LOCKER', 'LOCUS', 'LOFT', 'LOL', 'LONDON', 'LOTTE', 'LOTTO', 'LOVE', 'LPL', 'LPLFINANCIAL', 'LR', 'LS', 'LT', 'LTD', 'LTDA', 'LU', 'LUNDBECK', 'LUPIN', 'LUXE', 'LUXURY', 'LV', 'LY', 'MA', 'MACYS', 'MADRID', 'MAIF', 'MAISON', 'MAKEUP', 'MAN', 'MANAGEMENT', 'MANGO', 'MARKET', 'MARKETING', 'MARKETS', 'MARRIOTT', 'MARSHALLS', 'MASERATI', 'MATTEL', 'MBA', 'MC', 'MCD', 'MCDONALDS', 'MCKINSEY', 'MD', 'ME', 'MED', 'MEDIA', 'MEET', 'MELBOURNE', 'MEME', 'MEMORIAL', 'MEN', 'MENU', 'MEO', 'METLIFE', 'MG', 'MH', 'MIAMI', 'MICROSOFT', 'MIL', 'MINI', 'MINT', 'MIT', 'MITSUBISHI', 'MK', 'ML', 'MLB', 'MLS', 'MM', 'MMA', 'MN', 'MO', 'MOBI', 'MOBILE', 'MOBILY', 'MODA', 'MOE', 'MOI', 'MOM', 'MONASH', 'MONEY', 'MONSTER', 'MONTBLANC', 'MOPAR', 'MORMON', 'MORTGAGE', 'MOSCOW', 'MOTO', 'MOTORCYCLES', 'MOV', 'MOVIE', 'MOVISTAR', 'MP', 'MQ', 'MR', 'MS', 'MSD', 'MT', 'MTN', 'MTPC', 'MTR', 'MU', 'MUSEUM', 'MUTUAL', 'MV', 'MW', 'MX', 'MY', 'MZ', 'NA', 'NAB', 'NADEX', 'NAGOYA', 'NAME', 'NATIONWIDE', 'NATURA', 'NAVY', 'NBA', 'NC', 'NE', 'NEC', 'NET', 'NETBANK', 'NETFLIX', 'NETWORK', 'NEUSTAR', 'NEW', 'NEWHOLLAND', 'NEWS', 'NEXT', 'NEXTDIRECT', 'NEXUS', 'NF', 'NFL', 'NG', 'NGO', 'NHK', 'NI', 'NICO', 'NIKE', 'NIKON', 'NINJA', 'NISSAN', 'NISSAY', 'NL', 'NO', 'NOKIA', 'NORTHWESTERNMUTUAL', 'NORTON', 'NOW', 'NOWRUZ', 'NOWTV', 'NP', 'NR', 'NRA', 'NRW', 'NTT', 'NU', 'NYC', 'NZ', 'OBI', 'OBSERVER', 'OFF', 'OFFICE', 'OKINAWA', 'OLAYAN', 'OLAYANGROUP', 'OLDNAVY', 'OLLO', 'OM', 'OMEGA', 'ONE', 'ONG', 'ONL', 'ONLINE', 'ONYOURSIDE', 'OOO', 'OPEN', 'ORACLE', 'ORANGE', 'ORG', 'ORGANIC', 'ORIGINS', 'OSAKA', 'OTSUKA', 'OTT', 'OVH', 'PA', 'PAGE', 'PAMPEREDCHEF', 'PANASONIC', 'PANERAI', 'PARIS', 'PARS', 'PARTNERS', 'PARTS', 'PARTY', 'PASSAGENS', 'PAY', 'PCCW', 'PE', 'PET', 'PF', 'PFIZER', 'PG', 'PH', 'PHARMACY', 'PHILIPS', 'PHONE', 'PHOTO', 'PHOTOGRAPHY', 'PHOTOS', 'PHYSIO', 'PIAGET', 'PICS', 'PICTET', 'PICTURES', 'PID', 'PIN', 'PING', 'PINK', 'PIONEER', 'PIZZA', 'PK', 'PL', 'PLACE', 'PLAY', 'PLAYSTATION', 'PLUMBING', 'PLUS', 'PM', 'PN', 'PNC', 'POHL', 'POKER', 'POLITIE', 'PORN', 'POST', 'PR', 'PRAMERICA', 'PRAXI', 'PRESS', 'PRIME', 'PRO', 'PROD', 'PRODUCTIONS', 'PROF', 'PROGRESSIVE', 'PROMO', 'PROPERTIES', 'PROPERTY', 'PROTECTION', 'PRU', 'PRUDENTIAL', 'PS', 'PT', 'PUB', 'PW', 'PWC', 'PY', 'QA', 'QPON', 'QUEBEC', 'QUEST', 'QVC', 'RACING', 'RADIO', 'RAID', 'RE', 'READ', 'REALESTATE', 'REALTOR', 'REALTY', 'RECIPES', 'RED', 'REDSTONE', 'REDUMBRELLA', 'REHAB', 'REISE', 'REISEN', 'REIT', 'RELIANCE', 'REN', 'RENT', 'RENTALS', 'REPAIR', 'REPORT', 'REPUBLICAN', 'REST', 'RESTAURANT', 'REVIEW', 'REVIEWS', 'REXROTH', 'RICH', 'RICHARDLI', 'RICOH', 'RIGHTATHOME', 'RIL', 'RIO', 'RIP', 'RMIT', 'RO', 'ROCHER', 'ROCKS', 'RODEO', 'ROGERS', 'ROOM', 'RS', 'RSVP', 'RU', 'RUGBY', 'RUHR', 'RUN', 'RW', 'RWE', 'RYUKYU', 'SA', 'SAARLAND', 'SAFE', 'SAFETY', 'SAKURA', 'SALE', 'SALON', 'SAMSCLUB', 'SAMSUNG', 'SANDVIK', 'SANDVIKCOROMANT', 'SANOFI', 'SAP', 'SAPO', 'SARL', 'SAS', 'SAVE', 'SAXO', 'SB', 'SBI', 'SBS', 'SC', 'SCA', 'SCB', 'SCHAEFFLER', 'SCHMIDT', 'SCHOLARSHIPS', 'SCHOOL', 'SCHULE', 'SCHWARZ', 'SCIENCE', 'SCJOHNSON', 'SCOR', 'SCOT', 'SD', 'SE', 'SEAT', 'SECURE', 'SECURITY', 'SEEK', 'SELECT', 'SENER', 'SERVICES', 'SES', 'SEVEN', 'SEW', 'SEX', 'SEXY', 'SFR', 'SG', 'SH', 'SHANGRILA', 'SHARP', 'SHAW', 'SHELL', 'SHIA', 'SHIKSHA', 'SHOES', 'SHOP', 'SHOPPING', 'SHOUJI', 'SHOW', 'SHOWTIME', 'SHRIRAM', 'SI', 'SILK', 'SINA', 'SINGLES', 'SITE', 'SJ', 'SK', 'SKI', 'SKIN', 'SKY', 'SKYPE', 'SL', 'SLING', 'SM', 'SMART', 'SMILE', 'SN', 'SNCF', 'SO', 'SOCCER', 'SOCIAL', 'SOFTBANK', 'SOFTWARE', 'SOHU', 'SOLAR', 'SOLUTIONS', 'SONG', 'SONY', 'SOY', 'SPACE', 'SPIEGEL', 'SPOT', 'SPREADBETTING', 'SR', 'SRL', 'SRT', 'ST', 'STADA', 'STAPLES', 'STAR', 'STARHUB', 'STATEBANK', 'STATEFARM', 'STATOIL', 'STC', 'STCGROUP', 'STOCKHOLM', 'STORAGE', 'STORE', 'STREAM', 'STUDIO', 'STUDY', 'STYLE', 'SU', 'SUCKS', 'SUPPLIES', 'SUPPLY', 'SUPPORT', 'SURF', 'SURGERY', 'SUZUKI', 'SV', 'SWATCH', 'SWIFTCOVER', 'SWISS', 'SX', 'SY', 'SYDNEY', 'SYMANTEC', 'SYSTEMS', 'SZ', 'TAB', 'TAIPEI', 'TALK', 'TAOBAO', 'TARGET', 'TATAMOTORS', 'TATAR', 'TATTOO', 'TAX', 'TAXI', 'TC', 'TCI', 'TD', 'TDK', 'TEAM', 'TECH', 'TECHNOLOGY', 'TEL', 'TELECITY', 'TELEFONICA', 'TEMASEK', 'TENNIS', 'TEVA', 'TF', 'TG', 'TH', 'THD', 'THEATER', 'THEATRE', 'TIAA', 'TICKETS', 'TIENDA', 'TIFFANY', 'TIPS', 'TIRES', 'TIROL', 'TJ', 'TJMAXX', 'TJX', 'TK', 'TKMAXX', 'TL', 'TM', 'TMALL', 'TN', 'TO', 'TODAY', 'TOKYO', 'TOOLS', 'TOP', 'TORAY', 'TOSHIBA', 'TOTAL', 'TOURS', 'TOWN', 'TOYOTA', 'TOYS', 'TR', 'TRADE', 'TRADING', 'TRAINING', 'TRAVEL', 'TRAVELCHANNEL', 'TRAVELERS', 'TRAVELERSINSURANCE', 'TRUST', 'TRV', 'TT', 'TUBE', 'TUI', 'TUNES', 'TUSHU', 'TV', 'TVS', 'TW', 'TZ', 'UA', 'UBANK', 'UBS', 'UCONNECT', 'UG', 'UK', 'UNICOM', 'UNIVERSITY', 'UNO', 'UOL', 'UPS', 'US', 'UY', 'UZ', 'VA', 'VACATIONS', 'VANA', 'VANGUARD', 'VC', 'VE', 'VEGAS', 'VENTURES', 'VERISIGN', 'VERSICHERUNG', 'VET', 'VG', 'VI', 'VIAJES', 'VIDEO', 'VIG', 'VIKING', 'VILLAS', 'VIN', 'VIP', 'VIRGIN', 'VISA', 'VISION', 'VISTA', 'VISTAPRINT', 'VIVA', 'VIVO', 'VLAANDEREN', 'VN', 'VODKA', 'VOLKSWAGEN', 'VOLVO', 'VOTE', 'VOTING', 'VOTO', 'VOYAGE', 'VU', 'VUELOS', 'WALES', 'WALMART', 'WALTER', 'WANG', 'WANGGOU', 'WARMAN', 'WATCH', 'WATCHES', 'WEATHER', 'WEATHERCHANNEL', 'WEBCAM', 'WEBER', 'WEBSITE', 'WED', 'WEDDING', 'WEIBO', 'WEIR', 'WF', 'WHOSWHO', 'WIEN', 'WIKI', 'WILLIAMHILL', 'WIN', 'WINDOWS', 'WINE', 'WINNERS', 'WME', 'WOLTERSKLUWER', 'WOODSIDE', 'WORK', 'WORKS', 'WORLD', 'WOW', 'WS', 'WTC', 'WTF', 'XBOX', 'XEROX', 'XFINITY', 'XIHUAN', 'XIN', 'XN--11B4C3D', 'XN--1CK2E1B', 'XN--1QQW23A', 'XN--30RR7Y', 'XN--3BST00M', 'XN--3DS443G', 'XN--3E0B707E', 'XN--3OQ18VL8PN36A', 'XN--3PXU8K', 'XN--42C2D9A', 'XN--45BRJ9C', 'XN--45Q11C', 'XN--4GBRIM', 'XN--54B7FTA0CC', 'XN--55QW42G', 'XN--55QX5D', 'XN--5SU34J936BGSG', 'XN--5TZM5G', 'XN--6FRZ82G', 'XN--6QQ986B3XL', 'XN--80ADXHKS', 'XN--80AO21A', 'XN--80AQECDR1A', 'XN--80ASEHDB', 'XN--80ASWG', 'XN--8Y0A063A', 'XN--90A3AC', 'XN--90AE', 'XN--90AIS', 'XN--9DBQ2A', 'XN--9ET52U', 'XN--9KRT00A', 'XN--B4W605FERD', 'XN--BCK1B9A5DRE4C', 'XN--C1AVG', 'XN--C2BR7G', 'XN--CCK2B3B', 'XN--CG4BKI', 'XN--CLCHC0EA0B2G2A9GCD', 'XN--CZR694B', 'XN--CZRS0T', 'XN--CZRU2D', 'XN--D1ACJ3B', 'XN--D1ALF', 'XN--E1A4C', 'XN--ECKVDTC9D', 'XN--EFVY88H', 'XN--ESTV75G', 'XN--FCT429K', 'XN--FHBEI', 'XN--FIQ228C5HS', 'XN--FIQ64B', 'XN--FIQS8S', 'XN--FIQZ9S', 'XN--FJQ720A', 'XN--FLW351E', 'XN--FPCRJ9C3D', 'XN--FZC2C9E2C', 'XN--FZYS8D69UVGM', 'XN--G2XX48C', 'XN--GCKR3F0F', 'XN--GECRJ9C', 'XN--GK3AT1E', 'XN--H2BRJ9C', 'XN--HXT814E', 'XN--I1B6B1A6A2E', 'XN--IMR513N', 'XN--IO0A7I', 'XN--J1AEF', 'XN--J1AMH', 'XN--J6W193G', 'XN--JLQ61U9W7B', 'XN--JVR189M', 'XN--KCRX77D1X4A', 'XN--KPRW13D', 'XN--KPRY57D', 'XN--KPU716F', 'XN--KPUT3I', 'XN--L1ACC', 'XN--LGBBAT1AD8J', 'XN--MGB9AWBF', 'XN--MGBA3A3EJT', 'XN--MGBA3A4F16A', 'XN--MGBA7C0BBN0A', 'XN--MGBAAM7A8H', 'XN--MGBAB2BD', 'XN--MGBAI9AZGQP6J', 'XN--MGBAYH7GPA', 'XN--MGBB9FBPOB', 'XN--MGBBH1A71E', 'XN--MGBC0A9AZCG', 'XN--MGBCA7DZDO', 'XN--MGBERP4A5D4AR', 'XN--MGBI4ECEXP', 'XN--MGBPL2FH', 'XN--MGBT3DHD', 'XN--MGBTX2B', 'XN--MGBX4CD0AB', 'XN--MIX891F', 'XN--MK1BU44C', 'XN--MXTQ1M', 'XN--NGBC5AZD', 'XN--NGBE9E0A', 'XN--NODE', 'XN--NQV7F', 'XN--NQV7FS00EMA', 'XN--NYQY26A', 'XN--O3CW4H', 'XN--OGBPF8FL', 'XN--P1ACF', 'XN--P1AI', 'XN--PBT977C', 'XN--PGBS0DH', 'XN--PSSY2U', 'XN--Q9JYB4C', 'XN--QCKA1PMC', 'XN--QXAM', 'XN--RHQV96G', 'XN--ROVU88B', 'XN--S9BRJ9C', 'XN--SES554G', 'XN--T60B56A', 'XN--TCKWE', 'XN--TIQ49XQYJ', 'XN--UNUP4Y', 'XN--VERMGENSBERATER-CTB', 'XN--VERMGENSBERATUNG-PWB', 'XN--VHQUV', 'XN--VUQ861B', 'XN--W4R85EL8FHU5DNRA', 'XN--W4RS40L', 'XN--WGBH1C', 'XN--WGBL6A', 'XN--XHQ521B', 'XN--XKC2AL3HYE2A', 'XN--XKC2DL3A5EE0H', 'XN--Y9A3AQ', 'XN--YFRO4I67O', 'XN--YGBI2AMMX', 'XN--ZFR164B', 'XPERIA', 'XXX', 'XYZ', 'YACHTS', 'YAHOO', 'YAMAXUN', 'YANDEX', 'YE', 'YODOBASHI', 'YOGA', 'YOKOHAMA', 'YOU', 'YOUTUBE', 'YT', 'YUN', 'ZA', 'ZAPPOS', 'ZARA', 'ZERO', 'ZIP', 'ZIPPO', 'ZM', 'ZONE', 'ZUERICH', 'ZW', 'cf2 AARP', 'f0\\\\fs24 \\\\cf0 f', 'f1 \\\\cf2 \\\\expnd0\\\\expndtw0\\\\kerning0', 'margl1440\\\\margr1440\\\\vieww10800\\\\viewh8400\\\\viewkind0', 'pard\\\\pardeftab720\\\\sl280\\\\partightenfactor0', 'pard\\\\tx720\\\\tx1440\\\\tx2160\\\\tx2880\\\\tx3600\\\\tx4320\\\\tx5040\\\\tx5760\\\\tx6480\\\\tx7200\\\\tx7920\\\\tx8640\\\\pardirnatural\\\\partightenfactor0', '{\\\\*\\\\expandedcolortbl;;\\\\cssrgb\\\\c0\\\\c0\\\\c0;}', '{\\\\colortbl;\\\\red255\\\\green255\\\\blue255;\\\\red0\\\\green0\\\\blue0;}', '{\\\\fonttbl\\\\f0\\\\fswiss\\\\fcharset0 Helvetica;\\\\f1\\\\fmodern\\\\fcharset0 Courier;}', '{\\\\rtf1\\\\ansi\\\\ansicpg1252\\\\cocoartf1504\\\\cocoasubrtf810', '}']\n"
     ]
    }
   ],
   "source": [
    "tld_file = 'tld.rtf'\n",
    "email_series = bank_cust_data[\"email\"]\n",
    "valid_email_format =[]\n",
    "valid_domain = []\n",
    "valid_sub_domain =[]\n",
    "valid_top_level_domain =[] \n",
    "\n",
    "tld_list = []\n",
    "open_tld_file = open(tld_file,'r')\n",
    "\n",
    "#print(open_tld_file)\n",
    "\n",
    "\n",
    "\n",
    "for x in open_tld_file:\n",
    "    if (str(x).strip()!=''):\n",
    "        tld_list.append(str(x).strip().strip('\\\\'))\n",
    "    \n",
    "#print(tld_list)    \n",
    "\n",
    "#tld_set = set(tld_list)\n",
    "\n",
    "\n",
    "print(sorted(tld_list))\n",
    "\n",
    "\n",
    "\n",
    "\n",
    "len_list = []\n",
    "for y in tld_list:\n",
    "    len_list.append(len(y))\n",
    "\n",
    "#print(set(len_list))\n",
    "\n"
   ]
  },
  {
   "cell_type": "code",
   "execution_count": 437,
   "metadata": {
    "collapsed": true
   },
   "outputs": [],
   "source": [
    "def find_characters(word, character):\n",
    "    found = []\n",
    "    last_index = -1\n",
    "    while True:\n",
    "        try:\n",
    "            last_index = word.index(character, last_index+1)\n",
    "        except ValueError:\n",
    "            break\n",
    "        else:\n",
    "            found.append(last_index)\n",
    "    return found"
   ]
  },
  {
   "cell_type": "code",
   "execution_count": 496,
   "metadata": {
    "collapsed": false
   },
   "outputs": [],
   "source": [
    "#reset df without valid_email_format column\n",
    "#bank_cust_data = bank_cust_data.drop(labels='valid_email_format', axis=1)\n",
    "#bank_cust_data = bank_cust_data.drop(labels='valid_tld', axis=1)\n",
    "bank_cust_data = bank_cust_data.drop(labels='est_zip', axis=1)\n",
    "bank_cust_data = bank_cust_data.drop(labels='est_city', axis=1)\n",
    "bank_cust_data = bank_cust_data.drop(labels='est_state', axis=1)\n",
    "#bank_cust_data = bank_cust_data.drop(labels='formatted_phone', axis=1)\n",
    "#bank_cust_data = bank_cust_data.drop(labels='valid_phone_flag', axis=1)\n",
    "#bank_cust_data = bank_cust_data.drop(labels='valid_tld', axis=1)\n",
    "#print(bank_cust_data)"
   ]
  },
  {
   "cell_type": "code",
   "execution_count": 438,
   "metadata": {
    "collapsed": false
   },
   "outputs": [],
   "source": [
    "\n",
    "valid_email_format =[]\n",
    "valid_top_level_domain=[]\n",
    "for ind,email in email_series.items():\n",
    "    #parse email \n",
    "    #check if only 1 '@' \n",
    "    email_str = str(email)\n",
    "    count_at = email_str.count('@')\n",
    "    if count_at == 1:\n",
    "        at_flag = True\n",
    "          #find index of '@'\n",
    "        index_at = email_str.index('@')\n",
    "    else:\n",
    "        at_flag = False\n",
    "    #find count and indices of '.'s\n",
    "    count_dot = email_str.count('.')\n",
    "    dot_indices = find_characters(email_str,'.') #this is a list \n",
    "    for dot_ind in dot_indices:\n",
    "        if(dot_ind > index_at):\n",
    "            dot_flag = True\n",
    "        else:\n",
    "            dot_flag= False\n",
    "            break\n",
    "    if(at_flag==True and dot_flag==True and count_dot>0):\n",
    "        valid_email_format.append(True)\n",
    "    else:\n",
    "        valid_email_format.append(False)\n",
    "        \n",
    "    #Extract Top Level Domain \n",
    "    if(count_dot>0):\n",
    "        tld_dot_start_index = max(dot_indices)\n",
    "        tld = email[(tld_dot_start_index +1):]\n",
    "        if(tld.upper() in tld_list):\n",
    "            valid_top_level_domain.append(True)\n",
    "        else:\n",
    "            valid_top_level_domain.append(False)\n",
    "    else:\n",
    "        valid_top_level_domain.append(False)"
   ]
  },
  {
   "cell_type": "code",
   "execution_count": 439,
   "metadata": {
    "collapsed": false
   },
   "outputs": [
    {
     "name": "stdout",
     "output_type": "stream",
     "text": [
      "[True, True, True, True, False, True, True, True, True, True, True, True, True, True, True]\n"
     ]
    }
   ],
   "source": [
    "print(valid_email_format)"
   ]
  },
  {
   "cell_type": "code",
   "execution_count": 441,
   "metadata": {
    "collapsed": false
   },
   "outputs": [],
   "source": [
    "bank_cust_data[\"valid_email_format\"]=valid_email_format"
   ]
  },
  {
   "cell_type": "code",
   "execution_count": 440,
   "metadata": {
    "collapsed": false
   },
   "outputs": [
    {
     "name": "stdout",
     "output_type": "stream",
     "text": [
      "[True, True, True, True, False, True, False, True, True, True, True, True, True, True, True]\n"
     ]
    }
   ],
   "source": [
    "print(valid_top_level_domain)"
   ]
  },
  {
   "cell_type": "code",
   "execution_count": 442,
   "metadata": {
    "collapsed": true
   },
   "outputs": [],
   "source": [
    "bank_cust_data[\"valid_tld\"]=valid_top_level_domain"
   ]
  },
  {
   "cell_type": "code",
   "execution_count": 443,
   "metadata": {
    "collapsed": false
   },
   "outputs": [
    {
     "name": "stdout",
     "output_type": "stream",
     "text": [
      "    source_rowID first_name  last_name                 street           city  \\\n",
      "0              1     Dennis   Sullivan     232 Dryden Terrace       Appleton   \n",
      "1              2      Harry      Davis                123 ABC  New York City   \n",
      "2              3   Michelle      White   185 Manitowish Point        Atlanta   \n",
      "3              4      Marie       Wood  98869 Claremont Place       Pasadena   \n",
      "4              5      Karen     Fisher   4323 Bluestem Center   Philadelphia   \n",
      "5              6       Gary    Carroll    678 Wayridge Center       Scranton   \n",
      "6              7       Paul   Gonzales       47 Main Crossing     Pittsburgh   \n",
      "7              8       Rose       Sims    03535 Knutson Place    Hattiesburg   \n",
      "8            316     Ronald     Powell       2 Crowley Center       Pasadena   \n",
      "9            317       Judy   Harrison       59517 Dottie Way     Birmingham   \n",
      "10           318     Andrew  Robertson       9812 Troy Avenue        Houston   \n",
      "11           319       Ruth   Gonzales        0 Mcguire Court  New York City   \n",
      "12           320    Heather    Hawkins    07155 Calypso Alley  Daytona Beach   \n",
      "13           321     Thomas     Lawson   061 Magdeline Circle         London   \n",
      "14           322       Gary    Carroll    678 Wayridge Center       Scranton   \n",
      "\n",
      "           state     zip             phone                           email  \\\n",
      "0          12345  654321      334-6754-333             dsullivan1@ucla.edu   \n",
      "1       New York   55555  1-(999)999-99999  hdavis3@networkadvertising.org   \n",
      "2        Georgia   30323   1-(678)692-6250                 mwhite4@hud.gov   \n",
      "3     California   91125   1-(626)747-3764           mwood5@bravesites.com   \n",
      "4   Pennsylvania   19115   1-(267)279-4286                kfishere@blogger   \n",
      "5   Pennsylvania   18514   1-(570)785-1034         gcarrollg@discovery.com   \n",
      "6   Pennsylvania   15205   1-(724)209-2821             pgonzalesh@pbs.pqrs   \n",
      "7    Mississippi   39404   1-(601)773-3815           rsimsi@slideshare.net   \n",
      "8     California   91131   1-(626)574-7779              rpowell0@jomla.org   \n",
      "9        Alabama   35263   1-(205)308-3808            jharrison7@sogou.com   \n",
      "10         Texas   77085   1-(713)453-8878          arobertson8@census.gov   \n",
      "11      New York   10115   1-(212)506-2497          rgonzales9@shop-pro.jp   \n",
      "12       Florida   32128   1-(386)294-7334            hhawkin@amazon.co.uk   \n",
      "13      Kentucky   40745   1-(606)272-1234               tlawsonf@admin.ch   \n",
      "14  Pennsylvania   18514   1-(500)785-2234           gcarllg@discovery.com   \n",
      "\n",
      "   est_zip      est_city est_state formatted_phone valid_phone_flag  \\\n",
      "0     None          None      None    +13346754333             True   \n",
      "1     None          None      None   +199999999999            False   \n",
      "2     None          None      None    +16786926250             True   \n",
      "3     None          None      None    +16267473764             True   \n",
      "4    19115  Philadelphia        PA    +12672794286             True   \n",
      "5     None          None      None    +15707851034             True   \n",
      "6    15205    Pittsburgh        PA    +17242092821             True   \n",
      "7     None          None      None    +16017733815             True   \n",
      "8     None          None      None    +16265747779             True   \n",
      "9     None          None      None    +12053083808             True   \n",
      "10   77085       Houston        TX    +17134538878             True   \n",
      "11   10115      New York        NY    +12125062497             True   \n",
      "12   32128   Port Orange        FL    +13862947334             True   \n",
      "13    None          None      None    +16062721234             True   \n",
      "14    None          None      None    +15007852234             True   \n",
      "\n",
      "   valid_email_format valid_tld  \n",
      "0                True      True  \n",
      "1                True      True  \n",
      "2                True      True  \n",
      "3                True      True  \n",
      "4               False     False  \n",
      "5                True      True  \n",
      "6                True     False  \n",
      "7                True      True  \n",
      "8                True      True  \n",
      "9                True      True  \n",
      "10               True      True  \n",
      "11               True      True  \n",
      "12               True      True  \n",
      "13               True      True  \n",
      "14               True      True  \n"
     ]
    }
   ],
   "source": [
    "print(bank_cust_data)"
   ]
  },
  {
   "cell_type": "code",
   "execution_count": 461,
   "metadata": {
    "collapsed": false
   },
   "outputs": [],
   "source": [
    "#address \n",
    "\n",
    "zip_file = 'zip_code_database.csv' #https://www.unitedstateszipcodes.org/zip-code-database/\n",
    "#zip,type,decommissioned,primary_city,acceptable_cities,unacceptable_cities,state,county,timezone,area_codes,world_region,country,latitude,longitude,irs_estimated_population_2014\n",
    "city_state_zip = pd.read_csv(zip_file,encoding='latin-1')\n",
    "\n",
    "\n",
    "    \n",
    "\n"
   ]
  },
  {
   "cell_type": "code",
   "execution_count": 462,
   "metadata": {
    "collapsed": false
   },
   "outputs": [
    {
     "data": {
      "text/html": [
       "<div>\n",
       "<table border=\"1\" class=\"dataframe\">\n",
       "  <thead>\n",
       "    <tr style=\"text-align: right;\">\n",
       "      <th></th>\n",
       "      <th>zip</th>\n",
       "      <th>type</th>\n",
       "      <th>decommissioned</th>\n",
       "      <th>primary_city</th>\n",
       "      <th>acceptable_cities</th>\n",
       "      <th>unacceptable_cities</th>\n",
       "      <th>state</th>\n",
       "      <th>county</th>\n",
       "      <th>timezone</th>\n",
       "      <th>area_codes</th>\n",
       "      <th>world_region</th>\n",
       "      <th>country</th>\n",
       "      <th>latitude</th>\n",
       "      <th>longitude</th>\n",
       "      <th>irs_estimated_population_2014</th>\n",
       "    </tr>\n",
       "  </thead>\n",
       "  <tbody>\n",
       "    <tr>\n",
       "      <th>0</th>\n",
       "      <td>501</td>\n",
       "      <td>UNIQUE</td>\n",
       "      <td>0</td>\n",
       "      <td>Holtsville</td>\n",
       "      <td>NaN</td>\n",
       "      <td>I R S Service Center</td>\n",
       "      <td>NY</td>\n",
       "      <td>Suffolk County</td>\n",
       "      <td>America/New_York</td>\n",
       "      <td>631</td>\n",
       "      <td>NaN</td>\n",
       "      <td>US</td>\n",
       "      <td>40.81</td>\n",
       "      <td>-73.04</td>\n",
       "      <td>562</td>\n",
       "    </tr>\n",
       "    <tr>\n",
       "      <th>1</th>\n",
       "      <td>544</td>\n",
       "      <td>UNIQUE</td>\n",
       "      <td>0</td>\n",
       "      <td>Holtsville</td>\n",
       "      <td>NaN</td>\n",
       "      <td>Irs Service Center</td>\n",
       "      <td>NY</td>\n",
       "      <td>Suffolk County</td>\n",
       "      <td>America/New_York</td>\n",
       "      <td>631</td>\n",
       "      <td>NaN</td>\n",
       "      <td>US</td>\n",
       "      <td>40.81</td>\n",
       "      <td>-73.04</td>\n",
       "      <td>0</td>\n",
       "    </tr>\n",
       "    <tr>\n",
       "      <th>2</th>\n",
       "      <td>601</td>\n",
       "      <td>STANDARD</td>\n",
       "      <td>0</td>\n",
       "      <td>Adjuntas</td>\n",
       "      <td>NaN</td>\n",
       "      <td>Colinas Del Gigante, Jard De Adjuntas, Urb San...</td>\n",
       "      <td>PR</td>\n",
       "      <td>Adjuntas Municipio</td>\n",
       "      <td>America/Puerto_Rico</td>\n",
       "      <td>787,939</td>\n",
       "      <td>NaN</td>\n",
       "      <td>US</td>\n",
       "      <td>18.16</td>\n",
       "      <td>-66.72</td>\n",
       "      <td>0</td>\n",
       "    </tr>\n",
       "    <tr>\n",
       "      <th>3</th>\n",
       "      <td>602</td>\n",
       "      <td>STANDARD</td>\n",
       "      <td>0</td>\n",
       "      <td>Aguada</td>\n",
       "      <td>NaN</td>\n",
       "      <td>Alts De Aguada, Bo Guaniquilla, Comunidad Las ...</td>\n",
       "      <td>PR</td>\n",
       "      <td>Aguada Municipio</td>\n",
       "      <td>NaN</td>\n",
       "      <td>787,939</td>\n",
       "      <td>NaN</td>\n",
       "      <td>US</td>\n",
       "      <td>18.38</td>\n",
       "      <td>-67.18</td>\n",
       "      <td>0</td>\n",
       "    </tr>\n",
       "    <tr>\n",
       "      <th>4</th>\n",
       "      <td>603</td>\n",
       "      <td>STANDARD</td>\n",
       "      <td>0</td>\n",
       "      <td>Aguadilla</td>\n",
       "      <td>Ramey</td>\n",
       "      <td>Bda Caban, Bda Esteves, Bo Borinquen, Bo Ceiba...</td>\n",
       "      <td>PR</td>\n",
       "      <td>Aguadilla Municipio</td>\n",
       "      <td>America/Puerto_Rico</td>\n",
       "      <td>787</td>\n",
       "      <td>NaN</td>\n",
       "      <td>US</td>\n",
       "      <td>18.43</td>\n",
       "      <td>-67.15</td>\n",
       "      <td>0</td>\n",
       "    </tr>\n",
       "    <tr>\n",
       "      <th>5</th>\n",
       "      <td>604</td>\n",
       "      <td>PO BOX</td>\n",
       "      <td>0</td>\n",
       "      <td>Aguadilla</td>\n",
       "      <td>Ramey</td>\n",
       "      <td>NaN</td>\n",
       "      <td>PR</td>\n",
       "      <td>NaN</td>\n",
       "      <td>NaN</td>\n",
       "      <td>NaN</td>\n",
       "      <td>NaN</td>\n",
       "      <td>US</td>\n",
       "      <td>18.43</td>\n",
       "      <td>-67.15</td>\n",
       "      <td>0</td>\n",
       "    </tr>\n",
       "    <tr>\n",
       "      <th>6</th>\n",
       "      <td>605</td>\n",
       "      <td>PO BOX</td>\n",
       "      <td>0</td>\n",
       "      <td>Aguadilla</td>\n",
       "      <td>NaN</td>\n",
       "      <td>NaN</td>\n",
       "      <td>PR</td>\n",
       "      <td>NaN</td>\n",
       "      <td>NaN</td>\n",
       "      <td>NaN</td>\n",
       "      <td>NaN</td>\n",
       "      <td>US</td>\n",
       "      <td>18.43</td>\n",
       "      <td>-67.15</td>\n",
       "      <td>0</td>\n",
       "    </tr>\n",
       "    <tr>\n",
       "      <th>7</th>\n",
       "      <td>606</td>\n",
       "      <td>STANDARD</td>\n",
       "      <td>0</td>\n",
       "      <td>Maricao</td>\n",
       "      <td>NaN</td>\n",
       "      <td>Urb San Juan Bautista</td>\n",
       "      <td>PR</td>\n",
       "      <td>Maricao Municipio</td>\n",
       "      <td>America/Puerto_Rico</td>\n",
       "      <td>787,939</td>\n",
       "      <td>NaN</td>\n",
       "      <td>US</td>\n",
       "      <td>18.18</td>\n",
       "      <td>-66.98</td>\n",
       "      <td>0</td>\n",
       "    </tr>\n",
       "    <tr>\n",
       "      <th>8</th>\n",
       "      <td>610</td>\n",
       "      <td>STANDARD</td>\n",
       "      <td>0</td>\n",
       "      <td>Anasco</td>\n",
       "      <td>NaN</td>\n",
       "      <td>Brisas De Anasco, Est De Valle Verde, Jard De ...</td>\n",
       "      <td>PR</td>\n",
       "      <td>Añasco Municipio</td>\n",
       "      <td>NaN</td>\n",
       "      <td>787</td>\n",
       "      <td>NaN</td>\n",
       "      <td>US</td>\n",
       "      <td>18.28</td>\n",
       "      <td>-67.14</td>\n",
       "      <td>0</td>\n",
       "    </tr>\n",
       "    <tr>\n",
       "      <th>9</th>\n",
       "      <td>611</td>\n",
       "      <td>PO BOX</td>\n",
       "      <td>0</td>\n",
       "      <td>Angeles</td>\n",
       "      <td>NaN</td>\n",
       "      <td>NaN</td>\n",
       "      <td>PR</td>\n",
       "      <td>NaN</td>\n",
       "      <td>NaN</td>\n",
       "      <td>NaN</td>\n",
       "      <td>NaN</td>\n",
       "      <td>US</td>\n",
       "      <td>18.28</td>\n",
       "      <td>-66.79</td>\n",
       "      <td>0</td>\n",
       "    </tr>\n",
       "  </tbody>\n",
       "</table>\n",
       "</div>"
      ],
      "text/plain": [
       "   zip      type  decommissioned primary_city acceptable_cities  \\\n",
       "0  501    UNIQUE               0   Holtsville               NaN   \n",
       "1  544    UNIQUE               0   Holtsville               NaN   \n",
       "2  601  STANDARD               0     Adjuntas               NaN   \n",
       "3  602  STANDARD               0       Aguada               NaN   \n",
       "4  603  STANDARD               0    Aguadilla             Ramey   \n",
       "5  604    PO BOX               0    Aguadilla             Ramey   \n",
       "6  605    PO BOX               0    Aguadilla               NaN   \n",
       "7  606  STANDARD               0      Maricao               NaN   \n",
       "8  610  STANDARD               0       Anasco               NaN   \n",
       "9  611    PO BOX               0      Angeles               NaN   \n",
       "\n",
       "                                 unacceptable_cities state  \\\n",
       "0                               I R S Service Center    NY   \n",
       "1                                 Irs Service Center    NY   \n",
       "2  Colinas Del Gigante, Jard De Adjuntas, Urb San...    PR   \n",
       "3  Alts De Aguada, Bo Guaniquilla, Comunidad Las ...    PR   \n",
       "4  Bda Caban, Bda Esteves, Bo Borinquen, Bo Ceiba...    PR   \n",
       "5                                                NaN    PR   \n",
       "6                                                NaN    PR   \n",
       "7                              Urb San Juan Bautista    PR   \n",
       "8  Brisas De Anasco, Est De Valle Verde, Jard De ...    PR   \n",
       "9                                                NaN    PR   \n",
       "\n",
       "                county             timezone area_codes world_region country  \\\n",
       "0       Suffolk County     America/New_York        631          NaN      US   \n",
       "1       Suffolk County     America/New_York        631          NaN      US   \n",
       "2   Adjuntas Municipio  America/Puerto_Rico    787,939          NaN      US   \n",
       "3     Aguada Municipio                  NaN    787,939          NaN      US   \n",
       "4  Aguadilla Municipio  America/Puerto_Rico        787          NaN      US   \n",
       "5                  NaN                  NaN        NaN          NaN      US   \n",
       "6                  NaN                  NaN        NaN          NaN      US   \n",
       "7    Maricao Municipio  America/Puerto_Rico    787,939          NaN      US   \n",
       "8     Añasco Municipio                  NaN        787          NaN      US   \n",
       "9                  NaN                  NaN        NaN          NaN      US   \n",
       "\n",
       "   latitude  longitude  irs_estimated_population_2014  \n",
       "0     40.81     -73.04                            562  \n",
       "1     40.81     -73.04                              0  \n",
       "2     18.16     -66.72                              0  \n",
       "3     18.38     -67.18                              0  \n",
       "4     18.43     -67.15                              0  \n",
       "5     18.43     -67.15                              0  \n",
       "6     18.43     -67.15                              0  \n",
       "7     18.18     -66.98                              0  \n",
       "8     18.28     -67.14                              0  \n",
       "9     18.28     -66.79                              0  "
      ]
     },
     "execution_count": 462,
     "metadata": {},
     "output_type": "execute_result"
    }
   ],
   "source": [
    "city_state_zip.head(10)"
   ]
  },
  {
   "cell_type": "code",
   "execution_count": 467,
   "metadata": {
    "collapsed": false
   },
   "outputs": [
    {
     "name": "stdout",
     "output_type": "stream",
     "text": [
      "         zip     primary_city state\n",
      "0        501       Holtsville    NY\n",
      "1        544       Holtsville    NY\n",
      "2        601         Adjuntas    PR\n",
      "3        602           Aguada    PR\n",
      "4        603        Aguadilla    PR\n",
      "5        604        Aguadilla    PR\n",
      "6        605        Aguadilla    PR\n",
      "7        606          Maricao    PR\n",
      "8        610           Anasco    PR\n",
      "9        611          Angeles    PR\n",
      "10       612          Arecibo    PR\n",
      "11       613          Arecibo    PR\n",
      "12       614          Arecibo    PR\n",
      "13       616         Bajadero    PR\n",
      "14       617      Barceloneta    PR\n",
      "15       622         Boqueron    PR\n",
      "16       623        Cabo Rojo    PR\n",
      "17       624         Penuelas    PR\n",
      "18       627            Camuy    PR\n",
      "19       631         Castaner    PR\n",
      "20       636          Rosario    PR\n",
      "21       637    Sabana Grande    PR\n",
      "22       638           Ciales    PR\n",
      "23       641           Utuado    PR\n",
      "24       646           Dorado    PR\n",
      "25       647         Ensenada    PR\n",
      "26       650          Florida    PR\n",
      "27       652      Garrochales    PR\n",
      "28       653          Guanica    PR\n",
      "29       656       Guayanilla    PR\n",
      "...      ...              ...   ...\n",
      "42583  99811           Juneau    AK\n",
      "42584  99812           Juneau    AK\n",
      "42585  99820           Angoon    AK\n",
      "42586  99821         Auke Bay    AK\n",
      "42587  99824          Douglas    AK\n",
      "42588  99825       Elfin Cove    AK\n",
      "42589  99826         Gustavus    AK\n",
      "42590  99827           Haines    AK\n",
      "42591  99829           Hoonah    AK\n",
      "42592  99830             Kake    AK\n",
      "42593  99832          Pelican    AK\n",
      "42594  99833       Petersburg    AK\n",
      "42595  99835            Sitka    AK\n",
      "42596  99836   Port Alexander    AK\n",
      "42597  99840          Skagway    AK\n",
      "42598  99841  Tenakee Springs    AK\n",
      "42599  99850           Juneau    AK\n",
      "42600  99901        Ketchikan    AK\n",
      "42601  99903     Meyers Chuck    AK\n",
      "42602  99918     Coffman Cove    AK\n",
      "42603  99919       Thorne Bay    AK\n",
      "42604  99921            Craig    AK\n",
      "42605  99922         Hydaburg    AK\n",
      "42606  99923            Hyder    AK\n",
      "42607  99925          Klawock    AK\n",
      "42608  99926       Metlakatla    AK\n",
      "42609  99927      Point Baker    AK\n",
      "42610  99928        Ward Cove    AK\n",
      "42611  99929         Wrangell    AK\n",
      "42612  99950        Ketchikan    AK\n",
      "\n",
      "[42613 rows x 3 columns]\n"
     ]
    }
   ],
   "source": [
    "addr_filtered = city_state_zip.filter(items=['zip','primary_city','state'])\n",
    "print(addr_filtered)"
   ]
  },
  {
   "cell_type": "code",
   "execution_count": 469,
   "metadata": {
    "collapsed": false
   },
   "outputs": [
    {
     "data": {
      "text/plain": [
       "zip              int64\n",
       "primary_city    object\n",
       "state           object\n",
       "dtype: object"
      ]
     },
     "execution_count": 469,
     "metadata": {},
     "output_type": "execute_result"
    }
   ],
   "source": [
    "addr_filtered.dtypes"
   ]
  },
  {
   "cell_type": "code",
   "execution_count": 472,
   "metadata": {
    "collapsed": false
   },
   "outputs": [],
   "source": [
    "#filter out where zip code not 5 digit \n",
    "\n",
    "filtered = addr_filtered[addr_filtered['zip'].map(str).map(len) == 5]"
   ]
  },
  {
   "cell_type": "code",
   "execution_count": 609,
   "metadata": {
    "collapsed": false
   },
   "outputs": [
    {
     "data": {
      "text/html": [
       "<div>\n",
       "<table border=\"1\" class=\"dataframe\">\n",
       "  <thead>\n",
       "    <tr style=\"text-align: right;\">\n",
       "      <th></th>\n",
       "      <th>zip</th>\n",
       "      <th>primary_city</th>\n",
       "      <th>state</th>\n",
       "    </tr>\n",
       "  </thead>\n",
       "  <tbody>\n",
       "    <tr>\n",
       "      <th>3690</th>\n",
       "      <td>10001</td>\n",
       "      <td>New York</td>\n",
       "      <td>NY</td>\n",
       "    </tr>\n",
       "    <tr>\n",
       "      <th>3691</th>\n",
       "      <td>10002</td>\n",
       "      <td>New York</td>\n",
       "      <td>NY</td>\n",
       "    </tr>\n",
       "    <tr>\n",
       "      <th>3692</th>\n",
       "      <td>10003</td>\n",
       "      <td>New York</td>\n",
       "      <td>NY</td>\n",
       "    </tr>\n",
       "    <tr>\n",
       "      <th>3693</th>\n",
       "      <td>10004</td>\n",
       "      <td>New York</td>\n",
       "      <td>NY</td>\n",
       "    </tr>\n",
       "    <tr>\n",
       "      <th>3694</th>\n",
       "      <td>10005</td>\n",
       "      <td>New York</td>\n",
       "      <td>NY</td>\n",
       "    </tr>\n",
       "    <tr>\n",
       "      <th>3695</th>\n",
       "      <td>10006</td>\n",
       "      <td>New York</td>\n",
       "      <td>NY</td>\n",
       "    </tr>\n",
       "    <tr>\n",
       "      <th>3696</th>\n",
       "      <td>10007</td>\n",
       "      <td>New York</td>\n",
       "      <td>NY</td>\n",
       "    </tr>\n",
       "    <tr>\n",
       "      <th>3697</th>\n",
       "      <td>10008</td>\n",
       "      <td>New York</td>\n",
       "      <td>NY</td>\n",
       "    </tr>\n",
       "    <tr>\n",
       "      <th>3698</th>\n",
       "      <td>10009</td>\n",
       "      <td>New York</td>\n",
       "      <td>NY</td>\n",
       "    </tr>\n",
       "    <tr>\n",
       "      <th>3699</th>\n",
       "      <td>10010</td>\n",
       "      <td>New York</td>\n",
       "      <td>NY</td>\n",
       "    </tr>\n",
       "  </tbody>\n",
       "</table>\n",
       "</div>"
      ],
      "text/plain": [
       "        zip primary_city state\n",
       "3690  10001     New York    NY\n",
       "3691  10002     New York    NY\n",
       "3692  10003     New York    NY\n",
       "3693  10004     New York    NY\n",
       "3694  10005     New York    NY\n",
       "3695  10006     New York    NY\n",
       "3696  10007     New York    NY\n",
       "3697  10008     New York    NY\n",
       "3698  10009     New York    NY\n",
       "3699  10010     New York    NY"
      ]
     },
     "execution_count": 609,
     "metadata": {},
     "output_type": "execute_result"
    }
   ],
   "source": [
    "filtered.head(10)"
   ]
  },
  {
   "cell_type": "code",
   "execution_count": 612,
   "metadata": {
    "collapsed": false
   },
   "outputs": [
    {
     "data": {
      "text/html": [
       "<div>\n",
       "<table border=\"1\" class=\"dataframe\">\n",
       "  <thead>\n",
       "    <tr style=\"text-align: right;\">\n",
       "      <th></th>\n",
       "      <th>zip</th>\n",
       "      <th>primary_city</th>\n",
       "      <th>state</th>\n",
       "    </tr>\n",
       "  </thead>\n",
       "  <tbody>\n",
       "    <tr>\n",
       "      <th>13071</th>\n",
       "      <td>30302</td>\n",
       "      <td>Atlanta</td>\n",
       "      <td>GA</td>\n",
       "    </tr>\n",
       "  </tbody>\n",
       "</table>\n",
       "</div>"
      ],
      "text/plain": [
       "         zip primary_city state\n",
       "13071  30302      Atlanta    GA"
      ]
     },
     "execution_count": 612,
     "metadata": {},
     "output_type": "execute_result"
    }
   ],
   "source": [
    "filtered[filtered['zip'] == 30302]"
   ]
  },
  {
   "cell_type": "code",
   "execution_count": 477,
   "metadata": {
    "collapsed": false
   },
   "outputs": [],
   "source": [
    "#merge with a new file to get full State Name\n",
    "state_abbr_file ='state_abbr.csv'\n",
    "state_abbr = pd.read_csv(state_abbr_file)"
   ]
  },
  {
   "cell_type": "code",
   "execution_count": 478,
   "metadata": {
    "collapsed": false
   },
   "outputs": [
    {
     "data": {
      "text/html": [
       "<div>\n",
       "<table border=\"1\" class=\"dataframe\">\n",
       "  <thead>\n",
       "    <tr style=\"text-align: right;\">\n",
       "      <th></th>\n",
       "      <th>State</th>\n",
       "      <th>Abbreviation</th>\n",
       "    </tr>\n",
       "  </thead>\n",
       "  <tbody>\n",
       "    <tr>\n",
       "      <th>0</th>\n",
       "      <td>ALABAMA</td>\n",
       "      <td>AL</td>\n",
       "    </tr>\n",
       "    <tr>\n",
       "      <th>1</th>\n",
       "      <td>ALASKA</td>\n",
       "      <td>AK</td>\n",
       "    </tr>\n",
       "    <tr>\n",
       "      <th>2</th>\n",
       "      <td>ARIZONA</td>\n",
       "      <td>AZ</td>\n",
       "    </tr>\n",
       "    <tr>\n",
       "      <th>3</th>\n",
       "      <td>ARKANSAS</td>\n",
       "      <td>AR</td>\n",
       "    </tr>\n",
       "    <tr>\n",
       "      <th>4</th>\n",
       "      <td>CALIFORNIA</td>\n",
       "      <td>CA</td>\n",
       "    </tr>\n",
       "    <tr>\n",
       "      <th>5</th>\n",
       "      <td>COLORADO</td>\n",
       "      <td>CO</td>\n",
       "    </tr>\n",
       "    <tr>\n",
       "      <th>6</th>\n",
       "      <td>CONNECTICUT</td>\n",
       "      <td>CT</td>\n",
       "    </tr>\n",
       "    <tr>\n",
       "      <th>7</th>\n",
       "      <td>DELAWARE</td>\n",
       "      <td>DE</td>\n",
       "    </tr>\n",
       "    <tr>\n",
       "      <th>8</th>\n",
       "      <td>FLORIDA</td>\n",
       "      <td>FL</td>\n",
       "    </tr>\n",
       "    <tr>\n",
       "      <th>9</th>\n",
       "      <td>GEORGIA</td>\n",
       "      <td>GA</td>\n",
       "    </tr>\n",
       "    <tr>\n",
       "      <th>10</th>\n",
       "      <td>HAWAII</td>\n",
       "      <td>HI</td>\n",
       "    </tr>\n",
       "    <tr>\n",
       "      <th>11</th>\n",
       "      <td>IDAHO</td>\n",
       "      <td>ID</td>\n",
       "    </tr>\n",
       "    <tr>\n",
       "      <th>12</th>\n",
       "      <td>ILLINOIS</td>\n",
       "      <td>IL</td>\n",
       "    </tr>\n",
       "    <tr>\n",
       "      <th>13</th>\n",
       "      <td>INDIANA</td>\n",
       "      <td>IN</td>\n",
       "    </tr>\n",
       "    <tr>\n",
       "      <th>14</th>\n",
       "      <td>IOWA</td>\n",
       "      <td>IA</td>\n",
       "    </tr>\n",
       "    <tr>\n",
       "      <th>15</th>\n",
       "      <td>KANSAS</td>\n",
       "      <td>KS</td>\n",
       "    </tr>\n",
       "    <tr>\n",
       "      <th>16</th>\n",
       "      <td>KENTUCKY</td>\n",
       "      <td>KY</td>\n",
       "    </tr>\n",
       "    <tr>\n",
       "      <th>17</th>\n",
       "      <td>LOUISIANA</td>\n",
       "      <td>LA</td>\n",
       "    </tr>\n",
       "    <tr>\n",
       "      <th>18</th>\n",
       "      <td>MAINE</td>\n",
       "      <td>ME</td>\n",
       "    </tr>\n",
       "    <tr>\n",
       "      <th>19</th>\n",
       "      <td>MARYLAND</td>\n",
       "      <td>MD</td>\n",
       "    </tr>\n",
       "    <tr>\n",
       "      <th>20</th>\n",
       "      <td>MASSACHUSETTS</td>\n",
       "      <td>MA</td>\n",
       "    </tr>\n",
       "    <tr>\n",
       "      <th>21</th>\n",
       "      <td>MICHIGAN</td>\n",
       "      <td>MI</td>\n",
       "    </tr>\n",
       "    <tr>\n",
       "      <th>22</th>\n",
       "      <td>MINNESOTA</td>\n",
       "      <td>MN</td>\n",
       "    </tr>\n",
       "    <tr>\n",
       "      <th>23</th>\n",
       "      <td>MISSISSIPPI</td>\n",
       "      <td>MS</td>\n",
       "    </tr>\n",
       "    <tr>\n",
       "      <th>24</th>\n",
       "      <td>MISSOURI</td>\n",
       "      <td>MO</td>\n",
       "    </tr>\n",
       "    <tr>\n",
       "      <th>25</th>\n",
       "      <td>MONTANA</td>\n",
       "      <td>MT</td>\n",
       "    </tr>\n",
       "    <tr>\n",
       "      <th>26</th>\n",
       "      <td>NEBRASKA</td>\n",
       "      <td>NE</td>\n",
       "    </tr>\n",
       "    <tr>\n",
       "      <th>27</th>\n",
       "      <td>NEVADA</td>\n",
       "      <td>NV</td>\n",
       "    </tr>\n",
       "    <tr>\n",
       "      <th>28</th>\n",
       "      <td>NEW HAMPSHIRE</td>\n",
       "      <td>NH</td>\n",
       "    </tr>\n",
       "    <tr>\n",
       "      <th>29</th>\n",
       "      <td>NEW JERSEY</td>\n",
       "      <td>NJ</td>\n",
       "    </tr>\n",
       "    <tr>\n",
       "      <th>30</th>\n",
       "      <td>NEW MEXICO</td>\n",
       "      <td>NM</td>\n",
       "    </tr>\n",
       "    <tr>\n",
       "      <th>31</th>\n",
       "      <td>NEW YORK</td>\n",
       "      <td>NY</td>\n",
       "    </tr>\n",
       "    <tr>\n",
       "      <th>32</th>\n",
       "      <td>NORTH CAROLINA</td>\n",
       "      <td>NC</td>\n",
       "    </tr>\n",
       "    <tr>\n",
       "      <th>33</th>\n",
       "      <td>NORTH DAKOTA</td>\n",
       "      <td>ND</td>\n",
       "    </tr>\n",
       "    <tr>\n",
       "      <th>34</th>\n",
       "      <td>OHIO</td>\n",
       "      <td>OH</td>\n",
       "    </tr>\n",
       "    <tr>\n",
       "      <th>35</th>\n",
       "      <td>OKLAHOMA</td>\n",
       "      <td>OK</td>\n",
       "    </tr>\n",
       "    <tr>\n",
       "      <th>36</th>\n",
       "      <td>OREGON</td>\n",
       "      <td>OR</td>\n",
       "    </tr>\n",
       "    <tr>\n",
       "      <th>37</th>\n",
       "      <td>PENNSYLVANIA</td>\n",
       "      <td>PA</td>\n",
       "    </tr>\n",
       "    <tr>\n",
       "      <th>38</th>\n",
       "      <td>RHODE ISLAND</td>\n",
       "      <td>RI</td>\n",
       "    </tr>\n",
       "    <tr>\n",
       "      <th>39</th>\n",
       "      <td>SOUTH CAROLINA</td>\n",
       "      <td>SC</td>\n",
       "    </tr>\n",
       "    <tr>\n",
       "      <th>40</th>\n",
       "      <td>SOUTH DAKOTA</td>\n",
       "      <td>SD</td>\n",
       "    </tr>\n",
       "    <tr>\n",
       "      <th>41</th>\n",
       "      <td>TENNESSEE</td>\n",
       "      <td>TN</td>\n",
       "    </tr>\n",
       "    <tr>\n",
       "      <th>42</th>\n",
       "      <td>TEXAS</td>\n",
       "      <td>TX</td>\n",
       "    </tr>\n",
       "    <tr>\n",
       "      <th>43</th>\n",
       "      <td>UTAH</td>\n",
       "      <td>UT</td>\n",
       "    </tr>\n",
       "    <tr>\n",
       "      <th>44</th>\n",
       "      <td>VERMONT</td>\n",
       "      <td>VT</td>\n",
       "    </tr>\n",
       "    <tr>\n",
       "      <th>45</th>\n",
       "      <td>VIRGINIA</td>\n",
       "      <td>VA</td>\n",
       "    </tr>\n",
       "    <tr>\n",
       "      <th>46</th>\n",
       "      <td>WASHINGTON</td>\n",
       "      <td>WA</td>\n",
       "    </tr>\n",
       "    <tr>\n",
       "      <th>47</th>\n",
       "      <td>WEST VIRGINIA</td>\n",
       "      <td>WV</td>\n",
       "    </tr>\n",
       "    <tr>\n",
       "      <th>48</th>\n",
       "      <td>WISCONSIN</td>\n",
       "      <td>WI</td>\n",
       "    </tr>\n",
       "    <tr>\n",
       "      <th>49</th>\n",
       "      <td>WYOMING</td>\n",
       "      <td>WY</td>\n",
       "    </tr>\n",
       "    <tr>\n",
       "      <th>50</th>\n",
       "      <td>GUAM</td>\n",
       "      <td>GU</td>\n",
       "    </tr>\n",
       "    <tr>\n",
       "      <th>51</th>\n",
       "      <td>PUERTO RICO</td>\n",
       "      <td>PR</td>\n",
       "    </tr>\n",
       "    <tr>\n",
       "      <th>52</th>\n",
       "      <td>VIRGIN ISLANDS</td>\n",
       "      <td>VI</td>\n",
       "    </tr>\n",
       "  </tbody>\n",
       "</table>\n",
       "</div>"
      ],
      "text/plain": [
       "             State Abbreviation\n",
       "0          ALABAMA           AL\n",
       "1           ALASKA           AK\n",
       "2          ARIZONA           AZ\n",
       "3         ARKANSAS           AR\n",
       "4       CALIFORNIA           CA\n",
       "5         COLORADO           CO\n",
       "6      CONNECTICUT           CT\n",
       "7         DELAWARE           DE\n",
       "8          FLORIDA           FL\n",
       "9          GEORGIA           GA\n",
       "10          HAWAII           HI\n",
       "11           IDAHO           ID\n",
       "12        ILLINOIS           IL\n",
       "13         INDIANA           IN\n",
       "14            IOWA           IA\n",
       "15          KANSAS           KS\n",
       "16        KENTUCKY           KY\n",
       "17       LOUISIANA           LA\n",
       "18           MAINE           ME\n",
       "19        MARYLAND           MD\n",
       "20   MASSACHUSETTS           MA\n",
       "21        MICHIGAN           MI\n",
       "22       MINNESOTA           MN\n",
       "23     MISSISSIPPI           MS\n",
       "24        MISSOURI           MO\n",
       "25         MONTANA           MT\n",
       "26        NEBRASKA           NE\n",
       "27          NEVADA           NV\n",
       "28   NEW HAMPSHIRE           NH\n",
       "29      NEW JERSEY           NJ\n",
       "30      NEW MEXICO           NM\n",
       "31        NEW YORK           NY\n",
       "32  NORTH CAROLINA           NC\n",
       "33    NORTH DAKOTA           ND\n",
       "34            OHIO           OH\n",
       "35        OKLAHOMA           OK\n",
       "36          OREGON           OR\n",
       "37    PENNSYLVANIA           PA\n",
       "38    RHODE ISLAND           RI\n",
       "39  SOUTH CAROLINA           SC\n",
       "40    SOUTH DAKOTA           SD\n",
       "41       TENNESSEE           TN\n",
       "42           TEXAS           TX\n",
       "43            UTAH           UT\n",
       "44         VERMONT           VT\n",
       "45        VIRGINIA           VA\n",
       "46      WASHINGTON           WA\n",
       "47   WEST VIRGINIA           WV\n",
       "48       WISCONSIN           WI\n",
       "49         WYOMING           WY\n",
       "50            GUAM           GU\n",
       "51     PUERTO RICO           PR\n",
       "52  VIRGIN ISLANDS           VI"
      ]
     },
     "execution_count": 478,
     "metadata": {},
     "output_type": "execute_result"
    }
   ],
   "source": [
    "state_abbr.head(55)"
   ]
  },
  {
   "cell_type": "code",
   "execution_count": 479,
   "metadata": {
    "collapsed": true
   },
   "outputs": [],
   "source": [
    "addr_with_state=pd.merge(filtered, state_abbr, left_on=  ['state'],right_on= ['Abbreviation'], how = 'left')"
   ]
  },
  {
   "cell_type": "code",
   "execution_count": 480,
   "metadata": {
    "collapsed": false
   },
   "outputs": [
    {
     "data": {
      "text/html": [
       "<div>\n",
       "<table border=\"1\" class=\"dataframe\">\n",
       "  <thead>\n",
       "    <tr style=\"text-align: right;\">\n",
       "      <th></th>\n",
       "      <th>zip</th>\n",
       "      <th>primary_city</th>\n",
       "      <th>state</th>\n",
       "      <th>State</th>\n",
       "      <th>Abbreviation</th>\n",
       "    </tr>\n",
       "  </thead>\n",
       "  <tbody>\n",
       "    <tr>\n",
       "      <th>0</th>\n",
       "      <td>10001</td>\n",
       "      <td>New York</td>\n",
       "      <td>NY</td>\n",
       "      <td>NEW YORK</td>\n",
       "      <td>NY</td>\n",
       "    </tr>\n",
       "    <tr>\n",
       "      <th>1</th>\n",
       "      <td>10002</td>\n",
       "      <td>New York</td>\n",
       "      <td>NY</td>\n",
       "      <td>NEW YORK</td>\n",
       "      <td>NY</td>\n",
       "    </tr>\n",
       "    <tr>\n",
       "      <th>2</th>\n",
       "      <td>10003</td>\n",
       "      <td>New York</td>\n",
       "      <td>NY</td>\n",
       "      <td>NEW YORK</td>\n",
       "      <td>NY</td>\n",
       "    </tr>\n",
       "    <tr>\n",
       "      <th>3</th>\n",
       "      <td>10004</td>\n",
       "      <td>New York</td>\n",
       "      <td>NY</td>\n",
       "      <td>NEW YORK</td>\n",
       "      <td>NY</td>\n",
       "    </tr>\n",
       "    <tr>\n",
       "      <th>4</th>\n",
       "      <td>10005</td>\n",
       "      <td>New York</td>\n",
       "      <td>NY</td>\n",
       "      <td>NEW YORK</td>\n",
       "      <td>NY</td>\n",
       "    </tr>\n",
       "    <tr>\n",
       "      <th>5</th>\n",
       "      <td>10006</td>\n",
       "      <td>New York</td>\n",
       "      <td>NY</td>\n",
       "      <td>NEW YORK</td>\n",
       "      <td>NY</td>\n",
       "    </tr>\n",
       "    <tr>\n",
       "      <th>6</th>\n",
       "      <td>10007</td>\n",
       "      <td>New York</td>\n",
       "      <td>NY</td>\n",
       "      <td>NEW YORK</td>\n",
       "      <td>NY</td>\n",
       "    </tr>\n",
       "    <tr>\n",
       "      <th>7</th>\n",
       "      <td>10008</td>\n",
       "      <td>New York</td>\n",
       "      <td>NY</td>\n",
       "      <td>NEW YORK</td>\n",
       "      <td>NY</td>\n",
       "    </tr>\n",
       "    <tr>\n",
       "      <th>8</th>\n",
       "      <td>10009</td>\n",
       "      <td>New York</td>\n",
       "      <td>NY</td>\n",
       "      <td>NEW YORK</td>\n",
       "      <td>NY</td>\n",
       "    </tr>\n",
       "    <tr>\n",
       "      <th>9</th>\n",
       "      <td>10010</td>\n",
       "      <td>New York</td>\n",
       "      <td>NY</td>\n",
       "      <td>NEW YORK</td>\n",
       "      <td>NY</td>\n",
       "    </tr>\n",
       "  </tbody>\n",
       "</table>\n",
       "</div>"
      ],
      "text/plain": [
       "     zip primary_city state     State Abbreviation\n",
       "0  10001     New York    NY  NEW YORK           NY\n",
       "1  10002     New York    NY  NEW YORK           NY\n",
       "2  10003     New York    NY  NEW YORK           NY\n",
       "3  10004     New York    NY  NEW YORK           NY\n",
       "4  10005     New York    NY  NEW YORK           NY\n",
       "5  10006     New York    NY  NEW YORK           NY\n",
       "6  10007     New York    NY  NEW YORK           NY\n",
       "7  10008     New York    NY  NEW YORK           NY\n",
       "8  10009     New York    NY  NEW YORK           NY\n",
       "9  10010     New York    NY  NEW YORK           NY"
      ]
     },
     "execution_count": 480,
     "metadata": {},
     "output_type": "execute_result"
    }
   ],
   "source": [
    "addr_with_state.head(10)"
   ]
  },
  {
   "cell_type": "code",
   "execution_count": 606,
   "metadata": {
    "collapsed": false
   },
   "outputs": [
    {
     "name": "stdout",
     "output_type": "stream",
     "text": [
      "Empty DataFrame\n",
      "Columns: [zip, primary_city, state, State, Abbreviation]\n",
      "Index: []\n"
     ]
    }
   ],
   "source": [
    "zipobj = addr_with_state[addr_with_state.zip == 30323]\n",
    "print(zipobj)\n",
    "for index, row in zipobj.iterrows():\n",
    "            correct_city = row['primary_city']\n",
    "            correct_state = row['Abbreviation']\n",
    "            print(correct_city)\n",
    "            print(correct_state)\n",
    "            break"
   ]
  },
  {
   "cell_type": "code",
   "execution_count": 482,
   "metadata": {
    "collapsed": false
   },
   "outputs": [
    {
     "data": {
      "text/plain": [
       "zip              int64\n",
       "primary_city    object\n",
       "state           object\n",
       "State           object\n",
       "Abbreviation    object\n",
       "dtype: object"
      ]
     },
     "execution_count": 482,
     "metadata": {},
     "output_type": "execute_result"
    }
   ],
   "source": [
    "addr_with_state.dtypes"
   ]
  },
  {
   "cell_type": "code",
   "execution_count": 483,
   "metadata": {
    "collapsed": false
   },
   "outputs": [
    {
     "data": {
      "text/plain": [
       "source_rowID           int64\n",
       "first_name            object\n",
       "last_name             object\n",
       "street                object\n",
       "city                  object\n",
       "state                 object\n",
       "zip                    int64\n",
       "phone                 object\n",
       "email                 object\n",
       "est_zip               object\n",
       "est_city              object\n",
       "est_state             object\n",
       "formatted_phone       object\n",
       "valid_phone_flag        bool\n",
       "valid_email_format      bool\n",
       "valid_tld               bool\n",
       "dtype: object"
      ]
     },
     "execution_count": 483,
     "metadata": {},
     "output_type": "execute_result"
    }
   ],
   "source": [
    "bank_cust_data.dtypes"
   ]
  },
  {
   "cell_type": "code",
   "execution_count": 613,
   "metadata": {
    "collapsed": false
   },
   "outputs": [
    {
     "name": "stdout",
     "output_type": "stream",
     "text": [
      "<class 'pandas.core.series.Series'>\n",
      "Series([], Name: zip, dtype: int64)\n",
      "<class 'pandas.core.series.Series'>\n",
      "<class 'pandas.core.series.Series'>\n",
      "     zip primary_city state     State Abbreviation\n",
      "9  10010     New York    NY  NEW YORK           NY\n",
      "3908    Scranton\n",
      "Name: primary_city, dtype: object\n"
     ]
    }
   ],
   "source": [
    "x = addr_with_state[addr_with_state.zip == 30323]['zip']\n",
    "print(type(x))\n",
    "print(x)\n",
    "correct_city =  addr_with_state[addr_with_state.zip == zipcode]['primary_city']\n",
    "correct_state = addr_with_state[addr_with_state.zip == zipcode]['Abbreviation']\n",
    "print(type(correct_city))\n",
    "print(type(correct_state))\n",
    "print(addr_with_state[addr_with_state.zip == 10010])\n",
    "print(correct_city)"
   ]
  },
  {
   "cell_type": "code",
   "execution_count": null,
   "metadata": {
    "collapsed": true
   },
   "outputs": [],
   "source": []
  },
  {
   "cell_type": "code",
   "execution_count": 621,
   "metadata": {
    "collapsed": false
   },
   "outputs": [
    {
     "name": "stdout",
     "output_type": "stream",
     "text": [
      "0               N/A\n",
      "1     Young America\n",
      "2       NotinLookup\n",
      "3          Pasadena\n",
      "4      Philadelphia\n",
      "5          Scranton\n",
      "6        Pittsburgh\n",
      "7       Hattiesburg\n",
      "8          Pasadena\n",
      "9        Birmingham\n",
      "10          Houston\n",
      "11         New York\n",
      "12      Port Orange\n",
      "13           London\n",
      "14         Scranton\n",
      "dtype: object\n",
      "0             N/A\n",
      "1              MN\n",
      "2     NotinLookup\n",
      "3              CA\n",
      "4              PA\n",
      "5              PA\n",
      "6              PA\n",
      "7              MS\n",
      "8              CA\n",
      "9              AL\n",
      "10             TX\n",
      "11             NY\n",
      "12             FL\n",
      "13             KY\n",
      "14             PA\n",
      "dtype: object\n"
     ]
    }
   ],
   "source": [
    "series = bank_cust_data['zip']\n",
    "from pandas import Series\n",
    "data_zipcodes = []\n",
    "data_cities = []\n",
    "data_states = []\n",
    "index1 = series.index\n",
    "\n",
    "for index, zipcode in series.items():\n",
    "        if len(str(zipcode)) == 5:\n",
    "                zipobj = addr_with_state[addr_with_state.zip == zipcode]\n",
    "                if(zipobj.empty == True):\n",
    "                    correct_city = 'NotinLookup'\n",
    "                    correct_state = 'NotinLookup'\n",
    "        #correct_city =  addr_with_state[addr_with_state.zip == zipcode]['primary_city']\n",
    "        #correct_state = addr_with_state[addr_with_state.zip == zipcode]['Abbreviation']\n",
    "                else:\n",
    "                    for index, row in zipobj.iterrows():\n",
    "                            correct_city = row['primary_city']\n",
    "                            correct_state = row['Abbreviation']\n",
    "                            break\n",
    "        else: \n",
    "            correct_city = 'N/A'\n",
    "            correct_state = 'N/A'\n",
    "            \n",
    "        #data_zipcodes.append(zip)\n",
    "       \n",
    "        data_cities.append(correct_city)\n",
    "        data_states.append(correct_state)\n",
    "        \n",
    "#zip_series = Series(data_zipcodes,index =index1)\n",
    "cities_series = Series(data_cities,index =index1)\n",
    "states_series = Series(data_states,index =index1)\n",
    "\n",
    "print(cities_series)\n",
    "print(states_series)"
   ]
  },
  {
   "cell_type": "code",
   "execution_count": 622,
   "metadata": {
    "collapsed": true
   },
   "outputs": [],
   "source": [
    "#bank_cust_data[\"est_zip\"] = zip_series\n",
    "bank_cust_data[\"correct_city\"] = cities_series\n",
    "bank_cust_data[\"correct_state\"] = states_series"
   ]
  },
  {
   "cell_type": "code",
   "execution_count": 623,
   "metadata": {
    "collapsed": false
   },
   "outputs": [
    {
     "name": "stdout",
     "output_type": "stream",
     "text": [
      "    source_rowID first_name  last_name                 street           city  \\\n",
      "0              1     Dennis   Sullivan     232 Dryden Terrace       Appleton   \n",
      "1              2      Harry      Davis                123 ABC  New York City   \n",
      "2              3   Michelle      White   185 Manitowish Point        Atlanta   \n",
      "3              4      Marie       Wood  98869 Claremont Place       Pasadena   \n",
      "4              5      Karen     Fisher   4323 Bluestem Center   Philadelphia   \n",
      "5              6       Gary    Carroll    678 Wayridge Center       Scranton   \n",
      "6              7       Paul   Gonzales       47 Main Crossing     Pittsburgh   \n",
      "7              8       Rose       Sims    03535 Knutson Place    Hattiesburg   \n",
      "8            316     Ronald     Powell       2 Crowley Center       Pasadena   \n",
      "9            317       Judy   Harrison       59517 Dottie Way     Birmingham   \n",
      "10           318     Andrew  Robertson       9812 Troy Avenue        Houston   \n",
      "11           319       Ruth   Gonzales        0 Mcguire Court  New York City   \n",
      "12           320    Heather    Hawkins    07155 Calypso Alley  Daytona Beach   \n",
      "13           321     Thomas     Lawson   061 Magdeline Circle         London   \n",
      "14           322       Gary    Carroll    678 Wayridge Center       Scranton   \n",
      "\n",
      "           state     zip             phone                           email  \\\n",
      "0          12345  654321      334-6754-333             dsullivan1@ucla.edu   \n",
      "1       New York   55555  1-(999)999-99999  hdavis3@networkadvertising.org   \n",
      "2        Georgia   30323   1-(678)692-6250                 mwhite4@hud.gov   \n",
      "3     California   91125   1-(626)747-3764           mwood5@bravesites.com   \n",
      "4   Pennsylvania   19115   1-(267)279-4286                kfishere@blogger   \n",
      "5   Pennsylvania   18514   1-(570)785-1034         gcarrollg@discovery.com   \n",
      "6   Pennsylvania   15205   1-(724)209-2821             pgonzalesh@pbs.pqrs   \n",
      "7    Mississippi   39404   1-(601)773-3815           rsimsi@slideshare.net   \n",
      "8     California   91131   1-(626)574-7779              rpowell0@jomla.org   \n",
      "9        Alabama   35263   1-(205)308-3808            jharrison7@sogou.com   \n",
      "10         Texas   77085   1-(713)453-8878          arobertson8@census.gov   \n",
      "11      New York   10115   1-(212)506-2497          rgonzales9@shop-pro.jp   \n",
      "12       Florida   32128   1-(386)294-7334            hhawkin@amazon.co.uk   \n",
      "13      Kentucky   40745   1-(606)272-1234               tlawsonf@admin.ch   \n",
      "14  Pennsylvania   18514   1-(500)785-2234           gcarllg@discovery.com   \n",
      "\n",
      "   formatted_phone valid_phone_flag valid_email_format valid_tld  \\\n",
      "0     +13346754333             True               True      True   \n",
      "1    +199999999999            False               True      True   \n",
      "2     +16786926250             True               True      True   \n",
      "3     +16267473764             True               True      True   \n",
      "4     +12672794286             True              False     False   \n",
      "5     +15707851034             True               True      True   \n",
      "6     +17242092821             True               True     False   \n",
      "7     +16017733815             True               True      True   \n",
      "8     +16265747779             True               True      True   \n",
      "9     +12053083808             True               True      True   \n",
      "10    +17134538878             True               True      True   \n",
      "11    +12125062497             True               True      True   \n",
      "12    +13862947334             True               True      True   \n",
      "13    +16062721234             True               True      True   \n",
      "14    +15007852234             True               True      True   \n",
      "\n",
      "     correct_city correct_state  \n",
      "0             N/A           N/A  \n",
      "1   Young America            MN  \n",
      "2     NotinLookup   NotinLookup  \n",
      "3        Pasadena            CA  \n",
      "4    Philadelphia            PA  \n",
      "5        Scranton            PA  \n",
      "6      Pittsburgh            PA  \n",
      "7     Hattiesburg            MS  \n",
      "8        Pasadena            CA  \n",
      "9      Birmingham            AL  \n",
      "10        Houston            TX  \n",
      "11       New York            NY  \n",
      "12    Port Orange            FL  \n",
      "13         London            KY  \n",
      "14       Scranton            PA  \n"
     ]
    }
   ],
   "source": [
    "print(bank_cust_data)"
   ]
  },
  {
   "cell_type": "code",
   "execution_count": 619,
   "metadata": {
    "collapsed": true
   },
   "outputs": [],
   "source": [
    "bank_cust_data = bank_cust_data.drop(labels='correct_city', axis=1)\n",
    "bank_cust_data = bank_cust_data.drop(labels='correct_state', axis=1)"
   ]
  },
  {
   "cell_type": "code",
   "execution_count": 527,
   "metadata": {
    "collapsed": false
   },
   "outputs": [],
   "source": [
    "h = [{'a': 1, 'b': 2}, {'a': 3, 'b': 8}, {'a': 1, 'b': 3}]\n",
    "from pandas import DataFrame\n",
    "\n",
    "d = DataFrame(h)"
   ]
  },
  {
   "cell_type": "code",
   "execution_count": 529,
   "metadata": {
    "collapsed": false
   },
   "outputs": [
    {
     "name": "stdout",
     "output_type": "stream",
     "text": [
      "   a  b\n",
      "0  1  2\n",
      "1  3  8\n",
      "2  1  3\n"
     ]
    }
   ],
   "source": [
    "print(d)"
   ]
  },
  {
   "cell_type": "code",
   "execution_count": 530,
   "metadata": {
    "collapsed": false
   },
   "outputs": [],
   "source": [
    "items = d[d['a'] == 1]"
   ]
  },
  {
   "cell_type": "code",
   "execution_count": 555,
   "metadata": {
    "collapsed": false
   },
   "outputs": [
    {
     "name": "stdout",
     "output_type": "stream",
     "text": [
      "2\n"
     ]
    }
   ],
   "source": [
    "for index, row in items.iterrows():\n",
    "    result = row['b']\n",
    "    print(result)\n",
    "    break"
   ]
  },
  {
   "cell_type": "code",
   "execution_count": null,
   "metadata": {
    "collapsed": true
   },
   "outputs": [],
   "source": []
  }
 ],
 "metadata": {
  "kernelspec": {
   "display_name": "Python 3",
   "language": "python",
   "name": "python3"
  },
  "language_info": {
   "codemirror_mode": {
    "name": "ipython",
    "version": 3
   },
   "file_extension": ".py",
   "mimetype": "text/x-python",
   "name": "python",
   "nbconvert_exporter": "python",
   "pygments_lexer": "ipython3",
   "version": "3.6.0"
  }
 },
 "nbformat": 4,
 "nbformat_minor": 2
}
